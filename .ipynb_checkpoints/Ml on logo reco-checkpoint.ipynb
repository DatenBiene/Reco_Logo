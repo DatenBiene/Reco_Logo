{
 "cells": [
  {
   "cell_type": "code",
   "execution_count": 7,
   "metadata": {
    "collapsed": true
   },
   "outputs": [],
   "source": [
    "import warnings\n",
    "warnings.filterwarnings('ignore')"
   ]
  },
  {
   "cell_type": "code",
   "execution_count": 8,
   "metadata": {
    "collapsed": true
   },
   "outputs": [],
   "source": [
    "%matplotlib inline\n",
    "import numpy as np\n",
    "import matplotlib.pyplot as plt\n",
    "import seaborn as sns; sns.set()\n",
    "import cv2"
   ]
  },
  {
   "cell_type": "code",
   "execution_count": 9,
   "metadata": {},
   "outputs": [],
   "source": [
    "from sklearn.ensemble import RandomForestClassifier\n"
   ]
  },
  {
   "cell_type": "code",
   "execution_count": 10,
   "metadata": {
    "collapsed": true
   },
   "outputs": [],
   "source": [
    "test_image = cv2.imread('Paint_image/logo_drew/tinder_1.png')\n",
    "test_image = cv2.cvtColor(test_image, cv2.COLOR_RGB2GRAY)\n",
    "test_image=255-test_image\n",
    "test_image = cv2.resize(test_image, (8, 8))"
   ]
  },
  {
   "cell_type": "code",
   "execution_count": 11,
   "metadata": {},
   "outputs": [
    {
     "data": {
      "text/plain": [
       "<matplotlib.image.AxesImage at 0x1ca1bd299e8>"
      ]
     },
     "execution_count": 11,
     "metadata": {},
     "output_type": "execute_result"
    },
    {
     "data": {
      "image/png": "[encoded data removed]",
      "text/plain": [
       "<matplotlib.figure.Figure at 0x1ca1bc749e8>"
      ]
     },
     "metadata": {},
     "output_type": "display_data"
    }
   ],
   "source": [
    "plt.imshow(test_image)"
   ]
  },
  {
   "cell_type": "code",
   "execution_count": 12,
   "metadata": {},
   "outputs": [
    {
     "data": {
      "text/plain": [
       "array([[  0,   0,   0,   0,   0,   0,   0,   0],\n",
       "       [  0,   0,   0,   0, 128, 245,   0,   0],\n",
       "       [  0,   0,   0,   0, 255, 255,   0,   0],\n",
       "       [  0,   0,   0, 255,  24, 255,   0,   0],\n",
       "       [  0,   0, 192, 195,   0, 205, 255,   0],\n",
       "       [  0,   0, 192, 112,  64, 255, 255,   0],\n",
       "       [  0,   0,  14, 192, 192,  46,   0,   0],\n",
       "       [  0,   0,   0,   0,   0,   0,   0,   0]], dtype=uint8)"
      ]
     },
     "execution_count": 12,
     "metadata": {},
     "output_type": "execute_result"
    }
   ],
   "source": [
    "test_image "
   ]
  },
  {
   "cell_type": "markdown",
   "metadata": {},
   "source": [
    "Il faut créer une base de données "
   ]
  },
  {
   "cell_type": "markdown",
   "metadata": {},
   "source": [
    "On veut créer de la manière : ['data', 'target', 'target_names', 'images']\n",
    "\n",
    "Liste ou numpy ? voire un dico ..\n",
    "\n",
    "https://docs.python.org/3/library/glob.html\n"
   ]
  },
  {
   "cell_type": "code",
   "execution_count": 31,
   "metadata": {
    "collapsed": true
   },
   "outputs": [],
   "source": [
    "from glob import glob\n",
    "import os"
   ]
  },
  {
   "cell_type": "code",
   "execution_count": 32,
   "metadata": {},
   "outputs": [],
   "source": [
    "imPath = \"Paint_image/logo_drew/\"\n",
    "ls_path = glob(os.path.join(imPath, '*' ))"
   ]
  },
  {
   "cell_type": "code",
   "execution_count": 35,
   "metadata": {},
   "outputs": [
    {
     "data": {
      "text/plain": [
       "['Paint_image/logo_drew\\\\messenger_1.png',\n",
       " 'Paint_image/logo_drew\\\\messenger_10.png',\n",
       " 'Paint_image/logo_drew\\\\messenger_2.png',\n",
       " 'Paint_image/logo_drew\\\\messenger_3.png',\n",
       " 'Paint_image/logo_drew\\\\messenger_4.png',\n",
       " 'Paint_image/logo_drew\\\\messenger_5.png',\n",
       " 'Paint_image/logo_drew\\\\messenger_6.png',\n",
       " 'Paint_image/logo_drew\\\\messenger_7.png',\n",
       " 'Paint_image/logo_drew\\\\messenger_8.png',\n",
       " 'Paint_image/logo_drew\\\\messenger_9.png',\n",
       " 'Paint_image/logo_drew\\\\tinder_1.png',\n",
       " 'Paint_image/logo_drew\\\\tinder_10.png',\n",
       " 'Paint_image/logo_drew\\\\tinder_2.png',\n",
       " 'Paint_image/logo_drew\\\\tinder_3.png',\n",
       " 'Paint_image/logo_drew\\\\tinder_4.png',\n",
       " 'Paint_image/logo_drew\\\\tinder_5.png',\n",
       " 'Paint_image/logo_drew\\\\tinder_6.png',\n",
       " 'Paint_image/logo_drew\\\\tinder_7.png',\n",
       " 'Paint_image/logo_drew\\\\tinder_8.png',\n",
       " 'Paint_image/logo_drew\\\\tinder_9.png']"
      ]
     },
     "execution_count": 35,
     "metadata": {},
     "output_type": "execute_result"
    }
   ],
   "source": [
    "ls_path"
   ]
  },
  {
   "cell_type": "code",
   "execution_count": 42,
   "metadata": {},
   "outputs": [
    {
     "name": "stdout",
     "output_type": "stream",
     "text": [
      "Wall time: 19 ms\n"
     ]
    }
   ],
   "source": [
    "%%time\n",
    "name_to_label ={'tinder':1,'messenger':2}   #Pour labeliser facilement\n",
    "l=[]\n",
    "for file in ls_path:                        #On parcours tous les fichiers                \n",
    "    im = cv2.imread(file,0)                 #On charge l'image\n",
    "    im=255-im                               #On inverse le contrast \n",
    "    im = cv2.resize(im, (8, 8))             #On met au bon format de pixels\n",
    "    name= file.split('\\\\')[1].split('_')[0] #On extrait le type\n",
    "    l+=[[np.ndarray.flatten(test_image),name_to_label[name],name,im]] #On met tout ensemble\n",
    "l # Le ième élément est une photo de la forme [donnée pour ML,label,nom du label,image]"
   ]
  },
  {
   "cell_type": "markdown",
   "metadata": {},
   "source": [
    "test avec array\n"
   ]
  },
  {
   "cell_type": "code",
   "execution_count": 59,
   "metadata": {},
   "outputs": [
    {
     "data": {
      "text/plain": [
       "array([0., 0., 0., ..., 0., 0., 0.])"
      ]
     },
     "execution_count": 59,
     "metadata": {},
     "output_type": "execute_result"
    }
   ],
   "source": [
    "#%%time\n",
    "name_to_label ={'tinder':1,'messenger':2} #Pour labeliser facilement\n",
    "data=np.array([])\n",
    "label=np.array([])\n",
    "nom_label=np.array([])\n",
    "image=np.array([])\n",
    "data_base={'data': data, 'label' : label,'nom_label' :nom_label,'image':image}\n",
    "for file in ls_path:                        #On parcours tous les fichiers                \n",
    "    im = cv2.imread(file,0)                 #On charge l'image\n",
    "    im=255-im                               #On inverse le contrast \n",
    "    im = cv2.resize(im, (8, 8))             #On met au bon format de pixels\n",
    "    name= file.split('\\\\')[1].split('_')[0] #On extrait le type\n",
    "    data_base['data']=np.append(data_base['data'],np.ndarray.flatten(test_image), axis=0) \n",
    "    data_base['label']=np.append(data_base['label'],name_to_label[name])\n",
    "    data_base['nom_label']=np.append(data_base['nom_label'],name)\n",
    "    #data_base['image']=np.append(data_base['image'],im, axis=0)\n",
    "    \n",
    "    \n",
    "    \n",
    "    #On met tout ensemble\n",
    "data_base['data'] # Le ième élément est une photo de la forme [donnée pour ML,label,nom du label,image]"
   ]
  },
  {
   "cell_type": "code",
   "execution_count": null,
   "metadata": {
    "collapsed": true
   },
   "outputs": [],
   "source": []
  },
  {
   "cell_type": "code",
   "execution_count": 49,
   "metadata": {
    "collapsed": true
   },
   "outputs": [],
   "source": [
    "data=np.array([])"
   ]
  },
  {
   "cell_type": "code",
   "execution_count": 50,
   "metadata": {},
   "outputs": [
    {
     "data": {
      "text/plain": [
       "array([], dtype=float64)"
      ]
     },
     "execution_count": 50,
     "metadata": {},
     "output_type": "execute_result"
    }
   ],
   "source": [
    "data"
   ]
  },
  {
   "cell_type": "code",
   "execution_count": 52,
   "metadata": {},
   "outputs": [
    {
     "data": {
      "text/plain": [
       "array([1.])"
      ]
     },
     "execution_count": 52,
     "metadata": {},
     "output_type": "execute_result"
    }
   ],
   "source": [
    "np.append(data,1)"
   ]
  },
  {
   "cell_type": "markdown",
   "metadata": {},
   "source": [
    "Test avec list "
   ]
  },
  {
   "cell_type": "code",
   "execution_count": 63,
   "metadata": {},
   "outputs": [
    {
     "data": {
      "text/plain": [
       "{'data': array([[[0, 0, 0, ..., 0, 0, 0]],\n",
       " \n",
       "        [[0, 0, 0, ..., 0, 0, 0]],\n",
       " \n",
       "        [[0, 0, 0, ..., 0, 0, 0]],\n",
       " \n",
       "        ...,\n",
       " \n",
       "        [[0, 0, 0, ..., 0, 0, 0]],\n",
       " \n",
       "        [[0, 0, 0, ..., 0, 0, 0]],\n",
       " \n",
       "        [[0, 0, 0, ..., 0, 0, 0]]], dtype=uint8),\n",
       " 'image': array([[[[  0,   0,   0, ...,   0,   0,   0],\n",
       "          [  0,   0,   0, ...,   0,   0,   0],\n",
       "          [  0,   0,  16, ...,   0,   0,   0],\n",
       "          ...,\n",
       "          [  0,   0,   0, ...,   4,   0,   0],\n",
       "          [  0,   0,   0, ...,   0,   0,   0],\n",
       "          [  0,   0,   0, ...,   0,   0,   0]]],\n",
       " \n",
       " \n",
       "        [[[  0,   0,   0, ...,   0,   0,   0],\n",
       "          [  0,   0,   0, ..., 203,  66,   0],\n",
       "          [  0,   0,   0, ..., 255, 192,   0],\n",
       "          ...,\n",
       "          [  0,   0,   0, ..., 255,  40, 255],\n",
       "          [  0,   0,   0, ..., 255, 255,   0],\n",
       "          [  0,   0,   0, ..., 255,   0,   0]]],\n",
       " \n",
       " \n",
       "        [[[  0,   0,   0, ...,   0,   0,   0],\n",
       "          [  0,   0,   0, ...,   0,   0,   0],\n",
       "          [  0,   0,   0, ..., 255,   0,   0],\n",
       "          ...,\n",
       "          [  0,   0, 154, ...,   0,   8, 255],\n",
       "          [  0,   0,   0, ...,   0, 255,   0],\n",
       "          [  0,   0,   0, ..., 255,  24,   0]]],\n",
       " \n",
       " \n",
       "        ...,\n",
       " \n",
       " \n",
       "        [[[  0,   0,   0, ...,   0,   0,   0],\n",
       "          [  0,   0,   0, ...,   0,   0,   0],\n",
       "          [  0,   0,   0, ...,  64, 118, 255],\n",
       "          ...,\n",
       "          [  0,   0, 192, ...,   0,   0,   0],\n",
       "          [  0,   0, 190, ...,   0,   0,   0],\n",
       "          [  0,   0,   0, ...,   0,   0,   0]]],\n",
       " \n",
       " \n",
       "        [[[  0,   0,   0, ...,   0,   0,   0],\n",
       "          [  0,   0,   0, ..., 255,   0,   0],\n",
       "          [  0,   0,  42, ..., 215, 171,   0],\n",
       "          ...,\n",
       "          [  0,   0,   0, ...,   0, 255,   0],\n",
       "          [  0,   0,   0, ..., 229, 253,   0],\n",
       "          [  0,   0,   0, ...,  64,   0,   0]]],\n",
       " \n",
       " \n",
       "        [[[  0,   0,   0, ...,   0,   0,   0],\n",
       "          [  0,   0, 171, ...,  22,   0,   0],\n",
       "          [  0,   0, 255, ..., 192,   0,   0],\n",
       "          ...,\n",
       "          [  0, 140, 213, ..., 255,   0,   0],\n",
       "          [  0,   0, 255, ..., 255,   0,   0],\n",
       "          [  0,   0,   0, ...,   0,   0,   0]]]], dtype=uint8),\n",
       " 'label': array([2, 2, 2, 2, 2, 2, 2, 2, 2, 2, 1, 1, 1, 1, 1, 1, 1, 1, 1, 1]),\n",
       " 'nom_label': array(['messenger', 'messenger', 'messenger', 'messenger', 'messenger',\n",
       "        'messenger', 'messenger', 'messenger', 'messenger', 'messenger',\n",
       "        'tinder', 'tinder', 'tinder', 'tinder', 'tinder', 'tinder',\n",
       "        'tinder', 'tinder', 'tinder', 'tinder'], dtype='<U9')}"
      ]
     },
     "execution_count": 63,
     "metadata": {},
     "output_type": "execute_result"
    }
   ],
   "source": [
    "#%%time\n",
    "name_to_label ={'tinder':1,'messenger':2} #Pour labeliser facilement\n",
    "data_base={'data': [], 'label' : [],'nom_label' :[],'image':[]}\n",
    "for file in ls_path:                        #On parcours tous les fichiers                \n",
    "    im = cv2.imread(file,0)                 #On charge l'image\n",
    "    im=255-im                               #On inverse le contrast \n",
    "    im = cv2.resize(im, (8, 8))             #On met au bon format de pixels\n",
    "    name= file.split('\\\\')[1].split('_')[0] #On extrait le type\n",
    "    data_base['data']+=[[np.ndarray.flatten(test_image)]]\n",
    "    data_base['label']+=[name_to_label[name]]\n",
    "    data_base['nom_label']+=[name]\n",
    "    data_base['image']+=[[im]]\n",
    "data_base['data']=np.array(data_base['data'])\n",
    "data_base['label']=np.array(data_base['label'])\n",
    "data_base['nom_label']=np.array(data_base['nom_label'])\n",
    "data_base['image']=np.array(data_base['image'])\n",
    "    \n",
    "    \n",
    "    \n",
    "data_base"
   ]
  },
  {
   "cell_type": "code",
   "execution_count": null,
   "metadata": {
    "collapsed": true
   },
   "outputs": [],
   "source": []
  }
 ],
 "metadata": {
  "kernelspec": {
   "display_name": "Python 3",
   "language": "python",
   "name": "python3"
  },
  "language_info": {
   "codemirror_mode": {
    "name": "ipython",
    "version": 3
   },
   "file_extension": ".py",
   "mimetype": "text/x-python",
   "name": "python",
   "nbconvert_exporter": "python",
   "pygments_lexer": "ipython3",
   "version": "3.6.1"
  }
 },
 "nbformat": 4,
 "nbformat_minor": 2
}
