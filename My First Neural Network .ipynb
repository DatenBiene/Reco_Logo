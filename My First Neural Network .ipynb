{
 "cells": [
  {
   "cell_type": "markdown",
   "metadata": {},
   "source": [
    "# Trying to Learn Neural Network with Tensorflow"
   ]
  },
  {
   "cell_type": "code",
   "execution_count": 1,
   "metadata": {
    "collapsed": true
   },
   "outputs": [],
   "source": [
    "import warnings\n",
    "warnings.filterwarnings('ignore')"
   ]
  },
  {
   "cell_type": "code",
   "execution_count": 2,
   "metadata": {
    "collapsed": true
   },
   "outputs": [],
   "source": [
    "%matplotlib inline\n",
    "import matplotlib.pyplot as plt\n",
    "import tensorflow as tf\n",
    "import numpy as np\n",
    "from sklearn.metrics import confusion_matrix\n",
    "\n",
    "import cv2"
   ]
  },
  {
   "cell_type": "markdown",
   "metadata": {
    "collapsed": true
   },
   "source": [
    "Données "
   ]
  },
  {
   "cell_type": "code",
   "execution_count": 3,
   "metadata": {},
   "outputs": [
    {
     "name": "stdout",
     "output_type": "stream",
     "text": [
      "Wall time: 6.99 ms\n"
     ]
    }
   ],
   "source": [
    "%%time\n",
    "from glob import glob\n",
    "import os\n",
    "\n",
    "imPath = \"Paint_image/logo_drew/\"\n",
    "ls_path = glob(os.path.join(imPath, '*' ))"
   ]
  },
  {
   "cell_type": "code",
   "execution_count": 4,
   "metadata": {},
   "outputs": [
    {
     "data": {
      "text/plain": [
       "['Paint_image/logo_drew\\\\messenger_1.png',\n",
       " 'Paint_image/logo_drew\\\\messenger_10.png',\n",
       " 'Paint_image/logo_drew\\\\messenger_11.png',\n",
       " 'Paint_image/logo_drew\\\\messenger_12.png',\n",
       " 'Paint_image/logo_drew\\\\messenger_13.png',\n",
       " 'Paint_image/logo_drew\\\\messenger_14.png',\n",
       " 'Paint_image/logo_drew\\\\messenger_15.png',\n",
       " 'Paint_image/logo_drew\\\\messenger_16.png',\n",
       " 'Paint_image/logo_drew\\\\messenger_17.png',\n",
       " 'Paint_image/logo_drew\\\\messenger_18.png',\n",
       " 'Paint_image/logo_drew\\\\messenger_19.png',\n",
       " 'Paint_image/logo_drew\\\\messenger_2.png',\n",
       " 'Paint_image/logo_drew\\\\messenger_20.png',\n",
       " 'Paint_image/logo_drew\\\\messenger_21.png',\n",
       " 'Paint_image/logo_drew\\\\messenger_22.png',\n",
       " 'Paint_image/logo_drew\\\\messenger_23.png',\n",
       " 'Paint_image/logo_drew\\\\messenger_24.png',\n",
       " 'Paint_image/logo_drew\\\\messenger_25.png',\n",
       " 'Paint_image/logo_drew\\\\messenger_26.png',\n",
       " 'Paint_image/logo_drew\\\\messenger_27.png',\n",
       " 'Paint_image/logo_drew\\\\messenger_28.png',\n",
       " 'Paint_image/logo_drew\\\\messenger_29.png',\n",
       " 'Paint_image/logo_drew\\\\messenger_3.png',\n",
       " 'Paint_image/logo_drew\\\\messenger_30.png',\n",
       " 'Paint_image/logo_drew\\\\messenger_4.png',\n",
       " 'Paint_image/logo_drew\\\\messenger_5.png',\n",
       " 'Paint_image/logo_drew\\\\messenger_6.png',\n",
       " 'Paint_image/logo_drew\\\\messenger_7.png',\n",
       " 'Paint_image/logo_drew\\\\messenger_8.png',\n",
       " 'Paint_image/logo_drew\\\\messenger_9.png',\n",
       " 'Paint_image/logo_drew\\\\tinder_1.png',\n",
       " 'Paint_image/logo_drew\\\\tinder_10.png',\n",
       " 'Paint_image/logo_drew\\\\tinder_11.png',\n",
       " 'Paint_image/logo_drew\\\\tinder_12.png',\n",
       " 'Paint_image/logo_drew\\\\tinder_13.png',\n",
       " 'Paint_image/logo_drew\\\\tinder_14.png',\n",
       " 'Paint_image/logo_drew\\\\tinder_15.png',\n",
       " 'Paint_image/logo_drew\\\\tinder_16.png',\n",
       " 'Paint_image/logo_drew\\\\tinder_17.png',\n",
       " 'Paint_image/logo_drew\\\\tinder_18.png',\n",
       " 'Paint_image/logo_drew\\\\tinder_19.png',\n",
       " 'Paint_image/logo_drew\\\\tinder_2.png',\n",
       " 'Paint_image/logo_drew\\\\tinder_20.png',\n",
       " 'Paint_image/logo_drew\\\\tinder_21.png',\n",
       " 'Paint_image/logo_drew\\\\tinder_22.png',\n",
       " 'Paint_image/logo_drew\\\\tinder_23.png',\n",
       " 'Paint_image/logo_drew\\\\tinder_24.png',\n",
       " 'Paint_image/logo_drew\\\\tinder_25.png',\n",
       " 'Paint_image/logo_drew\\\\tinder_26.png',\n",
       " 'Paint_image/logo_drew\\\\tinder_27.png',\n",
       " 'Paint_image/logo_drew\\\\tinder_28.png',\n",
       " 'Paint_image/logo_drew\\\\tinder_29.png',\n",
       " 'Paint_image/logo_drew\\\\tinder_3.png',\n",
       " 'Paint_image/logo_drew\\\\tinder_30.png',\n",
       " 'Paint_image/logo_drew\\\\tinder_4.png',\n",
       " 'Paint_image/logo_drew\\\\tinder_5.png',\n",
       " 'Paint_image/logo_drew\\\\tinder_6.png',\n",
       " 'Paint_image/logo_drew\\\\tinder_7.png',\n",
       " 'Paint_image/logo_drew\\\\tinder_8.png',\n",
       " 'Paint_image/logo_drew\\\\tinder_9.png']"
      ]
     },
     "execution_count": 4,
     "metadata": {},
     "output_type": "execute_result"
    }
   ],
   "source": [
    "ls_path"
   ]
  },
  {
   "cell_type": "markdown",
   "metadata": {},
   "source": [
    "Ne pas oublier le One-Hot Encoding "
   ]
  },
  {
   "cell_type": "code",
   "execution_count": 5,
   "metadata": {
    "collapsed": true
   },
   "outputs": [],
   "source": [
    "name_to_label ={'tinder':[1,0],'messenger':[0,1]} #Pour labeliser facilement\n",
    "data_base={'data': [], 'label' : [],'nom_label' :[],'image':[]}\n",
    "for file in ls_path:                        #On parcours tous les fichiers                \n",
    "    im = cv2.imread(file,0)                 #On charge l'image\n",
    "    im=255-im                               #On inverse le contrast \n",
    "    im = cv2.resize(im, (8, 8))             #On met au bon format de pixels\n",
    "    name= file.split('\\\\')[1].split('_')[0] #On extrait le type\n",
    "    data_base['data']+=[np.ndarray.flatten(im)]\n",
    "    data_base['label']+=[name_to_label[name]]\n",
    "    data_base['nom_label']+=[name]\n",
    "    data_base['image']+=[im]\n",
    "data_base['data']=np.array(data_base['data'])\n",
    "data_base['label']=np.array(data_base['label'])\n",
    "data_base['nom_label']=np.array(data_base['nom_label'])\n",
    "data_base['image']=np.array(data_base['image'])\n",
    "    "
   ]
  },
  {
   "cell_type": "code",
   "execution_count": 6,
   "metadata": {},
   "outputs": [
    {
     "data": {
      "text/plain": [
       "{'data': array([[  0,   0,   0, ...,   0,   0,   0],\n",
       "        [  0,   0,   0, ..., 255,   0,   0],\n",
       "        [  0,   0,   0, ...,   0,   0,   0],\n",
       "        ...,\n",
       "        [  0,   0,   0, ...,   0,   0,   0],\n",
       "        [  0,   0,   0, ...,  64,   0,   0],\n",
       "        [  0,   0,   0, ...,   0,   0,   0]], dtype=uint8),\n",
       " 'image': array([[[  0,   0,   0, ...,   0,   0,   0],\n",
       "         [  0,   0,   0, ...,   0,   0,   0],\n",
       "         [  0,   0,  16, ...,   0,   0,   0],\n",
       "         ...,\n",
       "         [  0,   0,   0, ...,   4,   0,   0],\n",
       "         [  0,   0,   0, ...,   0,   0,   0],\n",
       "         [  0,   0,   0, ...,   0,   0,   0]],\n",
       " \n",
       "        [[  0,   0,   0, ...,   0,   0,   0],\n",
       "         [  0,   0,   0, ..., 203,  66,   0],\n",
       "         [  0,   0,   0, ..., 255, 192,   0],\n",
       "         ...,\n",
       "         [  0,   0,   0, ..., 255,  40, 255],\n",
       "         [  0,   0,   0, ..., 255, 255,   0],\n",
       "         [  0,   0,   0, ..., 255,   0,   0]],\n",
       " \n",
       "        [[  0,   0,   0, ...,   0,   0,   0],\n",
       "         [  0,   0,   0, ...,   0,   0,   0],\n",
       "         [  0,   0,   0, ...,   0,   0,   0],\n",
       "         ...,\n",
       "         [  0,   0,   0, ...,  30,   0,   0],\n",
       "         [  0,   0,   0, ...,   0,   0,   0],\n",
       "         [  0,   0,   0, ...,   0,   0,   0]],\n",
       " \n",
       "        ...,\n",
       " \n",
       "        [[  0,   0,   0, ...,   0,   0,   0],\n",
       "         [  0,   0,   0, ...,   0,   0,   0],\n",
       "         [  0,   0,   0, ...,  64, 118, 255],\n",
       "         ...,\n",
       "         [  0,   0, 192, ...,   0,   0,   0],\n",
       "         [  0,   0, 190, ...,   0,   0,   0],\n",
       "         [  0,   0,   0, ...,   0,   0,   0]],\n",
       " \n",
       "        [[  0,   0,   0, ...,   0,   0,   0],\n",
       "         [  0,   0,   0, ..., 255,   0,   0],\n",
       "         [  0,   0,  42, ..., 215, 171,   0],\n",
       "         ...,\n",
       "         [  0,   0,   0, ...,   0, 255,   0],\n",
       "         [  0,   0,   0, ..., 229, 253,   0],\n",
       "         [  0,   0,   0, ...,  64,   0,   0]],\n",
       " \n",
       "        [[  0,   0,   0, ...,   0,   0,   0],\n",
       "         [  0,   0, 171, ...,  22,   0,   0],\n",
       "         [  0,   0, 255, ..., 192,   0,   0],\n",
       "         ...,\n",
       "         [  0, 140, 213, ..., 255,   0,   0],\n",
       "         [  0,   0, 255, ..., 255,   0,   0],\n",
       "         [  0,   0,   0, ...,   0,   0,   0]]], dtype=uint8),\n",
       " 'label': array([[0, 1],\n",
       "        [0, 1],\n",
       "        [0, 1],\n",
       "        [0, 1],\n",
       "        [0, 1],\n",
       "        [0, 1],\n",
       "        [0, 1],\n",
       "        [0, 1],\n",
       "        [0, 1],\n",
       "        [0, 1],\n",
       "        [0, 1],\n",
       "        [0, 1],\n",
       "        [0, 1],\n",
       "        [0, 1],\n",
       "        [0, 1],\n",
       "        [0, 1],\n",
       "        [0, 1],\n",
       "        [0, 1],\n",
       "        [0, 1],\n",
       "        [0, 1],\n",
       "        [0, 1],\n",
       "        [0, 1],\n",
       "        [0, 1],\n",
       "        [0, 1],\n",
       "        [0, 1],\n",
       "        [0, 1],\n",
       "        [0, 1],\n",
       "        [0, 1],\n",
       "        [0, 1],\n",
       "        [0, 1],\n",
       "        [1, 0],\n",
       "        [1, 0],\n",
       "        [1, 0],\n",
       "        [1, 0],\n",
       "        [1, 0],\n",
       "        [1, 0],\n",
       "        [1, 0],\n",
       "        [1, 0],\n",
       "        [1, 0],\n",
       "        [1, 0],\n",
       "        [1, 0],\n",
       "        [1, 0],\n",
       "        [1, 0],\n",
       "        [1, 0],\n",
       "        [1, 0],\n",
       "        [1, 0],\n",
       "        [1, 0],\n",
       "        [1, 0],\n",
       "        [1, 0],\n",
       "        [1, 0],\n",
       "        [1, 0],\n",
       "        [1, 0],\n",
       "        [1, 0],\n",
       "        [1, 0],\n",
       "        [1, 0],\n",
       "        [1, 0],\n",
       "        [1, 0],\n",
       "        [1, 0],\n",
       "        [1, 0],\n",
       "        [1, 0]]),\n",
       " 'nom_label': array(['messenger', 'messenger', 'messenger', 'messenger', 'messenger',\n",
       "        'messenger', 'messenger', 'messenger', 'messenger', 'messenger',\n",
       "        'messenger', 'messenger', 'messenger', 'messenger', 'messenger',\n",
       "        'messenger', 'messenger', 'messenger', 'messenger', 'messenger',\n",
       "        'messenger', 'messenger', 'messenger', 'messenger', 'messenger',\n",
       "        'messenger', 'messenger', 'messenger', 'messenger', 'messenger',\n",
       "        'tinder', 'tinder', 'tinder', 'tinder', 'tinder', 'tinder',\n",
       "        'tinder', 'tinder', 'tinder', 'tinder', 'tinder', 'tinder',\n",
       "        'tinder', 'tinder', 'tinder', 'tinder', 'tinder', 'tinder',\n",
       "        'tinder', 'tinder', 'tinder', 'tinder', 'tinder', 'tinder',\n",
       "        'tinder', 'tinder', 'tinder', 'tinder', 'tinder', 'tinder'],\n",
       "       dtype='<U9')}"
      ]
     },
     "execution_count": 6,
     "metadata": {},
     "output_type": "execute_result"
    }
   ],
   "source": [
    "data_base"
   ]
  },
  {
   "cell_type": "code",
   "execution_count": 7,
   "metadata": {},
   "outputs": [
    {
     "data": {
      "text/plain": [
       "64"
      ]
     },
     "execution_count": 7,
     "metadata": {},
     "output_type": "execute_result"
    }
   ],
   "source": [
    "data_base['image'][1].size"
   ]
  },
  {
   "cell_type": "code",
   "execution_count": 8,
   "metadata": {
    "collapsed": true
   },
   "outputs": [],
   "source": [
    "# Tuple with height and width of images used to reshape arrays.\n",
    "img_shape = data_base['image'][1].shape\n",
    "\n",
    "# The images are stored in one-dimensional arrays of this length.\n",
    "img_size_flat = data_base['image'][1].size\n",
    "\n",
    "# Number of classes, one class for each of 10 digits.\n",
    "num_classes = 2"
   ]
  },
  {
   "cell_type": "code",
   "execution_count": 9,
   "metadata": {
    "collapsed": true
   },
   "outputs": [],
   "source": [
    "def plot_images(images, cls_true, cls_pred=None):\n",
    "    assert len(images) == len(cls_true) == 9\n",
    "    \n",
    "    # Create figure with 3x3 sub-plots.\n",
    "    fig, axes = plt.subplots(3, 3)\n",
    "    fig.subplots_adjust(hspace=0.3, wspace=0.3)\n",
    "\n",
    "    for i, ax in enumerate(axes.flat):\n",
    "        # Plot image.\n",
    "        ax.imshow(images[i].reshape(img_shape), cmap='binary')\n",
    "\n",
    "        # Show true and predicted classes.\n",
    "        if cls_pred is None:\n",
    "            xlabel = \"True: {0}\".format(cls_true[i])\n",
    "        else:\n",
    "            xlabel = \"True: {0}, Pred: {1}\".format(cls_true[i], cls_pred[i])\n",
    "\n",
    "        ax.set_xlabel(xlabel)\n",
    "        \n",
    "        # Remove ticks from the plot.\n",
    "        ax.set_xticks([])\n",
    "        ax.set_yticks([])\n",
    "        \n",
    "    # Ensure the plot is shown correctly with multiple plots\n",
    "    # in a single Notebook cell.\n",
    "    plt.show()"
   ]
  },
  {
   "cell_type": "code",
   "execution_count": 10,
   "metadata": {},
   "outputs": [
    {
     "data": {
      "image/png": "[encoded data removed]",
      "text/plain": [
       "<matplotlib.figure.Figure at 0x213eaed85c0>"
      ]
     },
     "metadata": {},
     "output_type": "display_data"
    }
   ],
   "source": [
    "# Get the first images from the test-set.\n",
    "images = data_base['image'][5:14]\n",
    "\n",
    "# Get the true classes for those images.\n",
    "cls_true = data_base['nom_label'][5:14]\n",
    "\n",
    "# Plot the images and labels using our helper-function above.\n",
    "plot_images(images=images, cls_true=cls_true)"
   ]
  },
  {
   "cell_type": "code",
   "execution_count": 11,
   "metadata": {
    "collapsed": true
   },
   "outputs": [],
   "source": [
    "x = tf.placeholder(tf.float32, [None, img_size_flat])"
   ]
  },
  {
   "cell_type": "code",
   "execution_count": 12,
   "metadata": {
    "collapsed": true
   },
   "outputs": [],
   "source": [
    "y_true = tf.placeholder(tf.float32, [None, num_classes])"
   ]
  },
  {
   "cell_type": "code",
   "execution_count": 13,
   "metadata": {
    "collapsed": true
   },
   "outputs": [],
   "source": [
    "y_true_cls = tf.placeholder(tf.int64, [None])"
   ]
  },
  {
   "cell_type": "code",
   "execution_count": 14,
   "metadata": {
    "collapsed": true
   },
   "outputs": [],
   "source": [
    "weights = tf.Variable(tf.zeros([img_size_flat, num_classes]))"
   ]
  },
  {
   "cell_type": "code",
   "execution_count": 15,
   "metadata": {
    "collapsed": true
   },
   "outputs": [],
   "source": [
    "biases = tf.Variable(tf.zeros([num_classes]))"
   ]
  },
  {
   "cell_type": "code",
   "execution_count": 16,
   "metadata": {
    "collapsed": true
   },
   "outputs": [],
   "source": [
    "logits = tf.matmul(x, weights) + biases"
   ]
  },
  {
   "cell_type": "code",
   "execution_count": 17,
   "metadata": {
    "collapsed": true
   },
   "outputs": [],
   "source": [
    "y_pred = tf.nn.softmax(logits)"
   ]
  },
  {
   "cell_type": "code",
   "execution_count": 18,
   "metadata": {
    "collapsed": true
   },
   "outputs": [],
   "source": [
    "y_pred_cls = tf.argmax(y_pred, axis=1)"
   ]
  },
  {
   "cell_type": "code",
   "execution_count": 19,
   "metadata": {
    "collapsed": true
   },
   "outputs": [],
   "source": [
    "cross_entropy = tf.nn.softmax_cross_entropy_with_logits_v2(logits=logits,\n",
    "                                                           labels=y_true)"
   ]
  },
  {
   "cell_type": "code",
   "execution_count": 20,
   "metadata": {
    "collapsed": true
   },
   "outputs": [],
   "source": [
    "cost = tf.reduce_mean(cross_entropy)"
   ]
  },
  {
   "cell_type": "code",
   "execution_count": 21,
   "metadata": {
    "collapsed": true
   },
   "outputs": [],
   "source": [
    "optimizer = tf.train.GradientDescentOptimizer(learning_rate=0.5).minimize(cost)"
   ]
  },
  {
   "cell_type": "code",
   "execution_count": 22,
   "metadata": {
    "collapsed": true
   },
   "outputs": [],
   "source": [
    "correct_prediction = tf.equal(y_pred_cls, y_true_cls)"
   ]
  },
  {
   "cell_type": "code",
   "execution_count": null,
   "metadata": {},
   "outputs": [],
   "source": []
  },
  {
   "cell_type": "code",
   "execution_count": 23,
   "metadata": {
    "collapsed": true
   },
   "outputs": [],
   "source": [
    "accuracy = tf.reduce_mean(tf.cast(correct_prediction, tf.float32))"
   ]
  },
  {
   "cell_type": "markdown",
   "metadata": {},
   "source": [
    "# RUN"
   ]
  },
  {
   "cell_type": "code",
   "execution_count": 24,
   "metadata": {
    "collapsed": true
   },
   "outputs": [],
   "source": [
    "session = tf.Session()"
   ]
  },
  {
   "cell_type": "code",
   "execution_count": 25,
   "metadata": {
    "collapsed": true
   },
   "outputs": [],
   "source": [
    "session.run(tf.global_variables_initializer())"
   ]
  },
  {
   "cell_type": "code",
   "execution_count": 26,
   "metadata": {
    "collapsed": true
   },
   "outputs": [],
   "source": [
    "batch_size = 100"
   ]
  },
  {
   "cell_type": "code",
   "execution_count": 27,
   "metadata": {},
   "outputs": [
    {
     "data": {
      "text/plain": [
       "array([[  0,   0,   0,   0,   0,   0,   0,   0,   0,   0,   0,   0,   0,\n",
       "        203,  66,   0,   0,   0,   0,  70, 255, 255, 192,   0,   0,   0,\n",
       "          0, 255,   0,  64, 192,   0,   0,   0,  58, 235,   0,  64, 192,\n",
       "        183,   0,   0,   0,   0,   0, 255,  40, 255,   0,   0,   0,   0,\n",
       "          0, 255, 255,   0,   0,   0,   0,   0,   0, 255,   0,   0],\n",
       "       [  0,   0,   0,   0,   0,   0,   0,   0,   0,   0,   0,   0,   4,\n",
       "        255,   0,   0,   0, 255, 255, 255,   0,   0,   0,   0,   0,   0,\n",
       "          0,   0,   0, 255,  94, 128,   0,   0,   0,   0, 255,   4,   0,\n",
       "          0,   0,   0,   0, 255,  98,   0,   0,   0,   0,   0, 255, 245,\n",
       "          0,   0,   0,   0,   0,   0,   0,   0,   0,   0,   0,   0],\n",
       "       [  0,   0,   0,   0,   0,   0,   0,   0,   0,   0,   0,   0,   0,\n",
       "          0,   0,   0,   0,   0,   0,   0, 255,   0,   0,   0,   0, 255,\n",
       "        255, 213, 255,   0,   0, 167,   0,   0,   0,  60, 159, 255,   2,\n",
       "          0,   0,   0,   0, 255, 136,   0,   0,   0,   0,   0,   0,   0,\n",
       "          0,   0,   0,   0,   0,   0,   0,   0,   0,   0,   0,   0]],\n",
       "      dtype=uint8)"
      ]
     },
     "execution_count": 27,
     "metadata": {},
     "output_type": "execute_result"
    }
   ],
   "source": [
    "data_base['data'][[1,3,5]]\n"
   ]
  },
  {
   "cell_type": "code",
   "execution_count": null,
   "metadata": {
    "collapsed": true
   },
   "outputs": [],
   "source": []
  },
  {
   "cell_type": "code",
   "execution_count": 28,
   "metadata": {
    "collapsed": true
   },
   "outputs": [],
   "source": [
    "X= data_base['data']\n",
    "Y= data_base['label']"
   ]
  },
  {
   "cell_type": "code",
   "execution_count": 29,
   "metadata": {},
   "outputs": [
    {
     "name": "stderr",
     "output_type": "stream",
     "text": [
      "C:\\Users\\Delanoue\\Anaconda3\\lib\\site-packages\\sklearn\\cross_validation.py:44: DeprecationWarning: This module was deprecated in version 0.18 in favor of the model_selection module into which all the refactored classes and functions are moved. Also note that the interface of the new CV iterators are different from that of this module. This module will be removed in 0.20.\n",
      "  \"This module will be removed in 0.20.\", DeprecationWarning)\n"
     ]
    }
   ],
   "source": [
    "from sklearn.cross_validation import train_test_split\n",
    "\n",
    "Xtrain, Xtest, ytrain, ytest = train_test_split(X, Y, test_size=0.1,\n",
    "                                                random_state=0)"
   ]
  },
  {
   "cell_type": "code",
   "execution_count": 30,
   "metadata": {
    "collapsed": true
   },
   "outputs": [],
   "source": [
    "def optimize(num_iterations):\n",
    "    for i in range(num_iterations):\n",
    "        # Get a batch of training examples.\n",
    "        # x_batch now holds a batch of images and\n",
    "        # y_true_batch are the true labels for those images.\n",
    "        \n",
    "        x_batch = Xtrain\n",
    "        y_true_batch = ytrain\n",
    "        \n",
    "        # Put the batch into a dict with the proper names\n",
    "        # for placeholder variables in the TensorFlow graph.\n",
    "        # Note that the placeholder for y_true_cls is not set\n",
    "        # because it is not used during training.\n",
    "        feed_dict_train = {x: x_batch,\n",
    "                           y_true: y_true_batch}\n",
    "\n",
    "        # Run the optimizer using this batch of training data.\n",
    "        # TensorFlow assigns the variables in feed_dict_train\n",
    "        # to the placeholder variables and then runs the optimizer.\n",
    "        session.run(optimizer, feed_dict=feed_dict_train)"
   ]
  },
  {
   "cell_type": "code",
   "execution_count": 31,
   "metadata": {},
   "outputs": [
    {
     "data": {
      "text/plain": [
       "array([[  0,   0,   0,   0,   0,   0,   0,   0,   0,   0,   0,   0,   0,\n",
       "          0,   0,   0,   0,   0,   0,   0, 199, 243,   0,   0,   0,   8,\n",
       "        255, 255, 255,   0,   0,   0, 247, 255,   0,  72, 255,   0,   0,\n",
       "          0,   0,   0,   0, 255,   0,   0,  64, 255,   0,   0, 255, 255,\n",
       "        255, 255, 255,   0,   0,   0,   0,   0,   0,   0,   0,   0],\n",
       "       [  0,   0,   0,   0,   0,   0,   0,   0,   0,   0,   0,   0,   0,\n",
       "          0,   0,   0,   0,   0,   0,   0,   0,  70,   0,   0,   0,   0,\n",
       "        145,   0, 247, 255,   0,   0,   0,   0, 255,   0,   0, 255,   0,\n",
       "          0,   0, 255,   0,   0,  54, 241,   0,   0,   0,  64, 255, 255,\n",
       "         66,   0,   0,   0,   0,   0,   0,   0,   0,   0,   0,   0],\n",
       "       [  0,   0,   0, 247, 255,   0,   0,   0,   0,   0, 171, 255, 255,\n",
       "         22,   0,   0,   0,   0, 255,   0,  64, 192,   0,   0,   0, 188,\n",
       "        191,   0,  20, 255,   0,   0,   0, 192,  64,   0,   0, 255,   0,\n",
       "          0,   0, 140, 213,   0,   0, 255,   0,   0,   0,   0, 255,  12,\n",
       "        128, 255,   0,   0,   0,   0,   0, 255, 255,   0,   0,   0],\n",
       "       [  0,   0,   0,   0,   0,   0,   0,   0,   0,   0,   0,   0,   0,\n",
       "          0,   0,   0,   0,   0,   0,   0,   0,   0,   0,   0,   0,   0,\n",
       "         56,  20, 241,   0,   0,  10,   0,   0, 255, 255, 223,   0, 255,\n",
       "        255,   0,   0,   0, 255, 247, 255,   0,   0,   0,   0,   0, 255,\n",
       "        245,   0,   0,   0,   0,   0,   0,   0,   0,   0,   0,   0],\n",
       "       [  0,   0,   0,   0,   0,   0,   0,   0,   0,   0,   0,   0,   0,\n",
       "          0,   0,   0,   0,   0,   0,   0, 255, 255,   0,   0,   0,   0,\n",
       "          0, 255, 255, 255,   0,   0,   0,   0, 255, 255, 255,   0,   0,\n",
       "        255,   0,   0, 154,   0, 255,   0,   8, 255,   0,   0,   0,   0,\n",
       "        255,   0, 255,   0,   0,   0,   0,   0, 255, 255,  24,   0],\n",
       "       [  0,   0,   0,   0,   0,   0,   0,   0,   0,   0,   0,   0,   0,\n",
       "          0,   0,   0,   0,   0,   0,   0,   0,   0,   0,   0,   0,   0,\n",
       "          0, 160, 207,   0,   0, 215,   0,   0,   0,   0,   0,   0,  50,\n",
       "          0,   0,   0,   0,   0,  78,  30,   0,   0,   0,   0,   0,   0,\n",
       "        134,   0,   0,   0,   0,   0,   0, 247,   0,   0,   0,   0]],\n",
       "      dtype=uint8)"
      ]
     },
     "execution_count": 31,
     "metadata": {},
     "output_type": "execute_result"
    }
   ],
   "source": [
    "Xtest"
   ]
  },
  {
   "cell_type": "code",
   "execution_count": 32,
   "metadata": {},
   "outputs": [],
   "source": [
    "j={'[1 0]':0,'[0 1]':1}"
   ]
  },
  {
   "cell_type": "code",
   "execution_count": 33,
   "metadata": {
    "collapsed": true
   },
   "outputs": [],
   "source": [
    "feed_dict_test = {x: Xtest,\n",
    "                  y_true: ytest,\n",
    "                  y_true_cls: [j[str(a)] for a in ytest]}"
   ]
  },
  {
   "cell_type": "code",
   "execution_count": 34,
   "metadata": {
    "scrolled": true
   },
   "outputs": [
    {
     "data": {
      "text/plain": [
       "array([1, 0, 1, 1, 1])"
      ]
     },
     "execution_count": 34,
     "metadata": {},
     "output_type": "execute_result"
    }
   ],
   "source": [
    "np.array(feed_dict_test[y_true_cls])[np.array([True,False,True,True,True,True])]\n"
   ]
  },
  {
   "cell_type": "code",
   "execution_count": 35,
   "metadata": {},
   "outputs": [
    {
     "data": {
      "text/plain": [
       "{<tf.Tensor 'Placeholder:0' shape=(?, 64) dtype=float32>: array([[  0,   0,   0,   0,   0,   0,   0,   0,   0,   0,   0,   0,   0,\n",
       "           0,   0,   0,   0,   0,   0,   0, 199, 243,   0,   0,   0,   8,\n",
       "         255, 255, 255,   0,   0,   0, 247, 255,   0,  72, 255,   0,   0,\n",
       "           0,   0,   0,   0, 255,   0,   0,  64, 255,   0,   0, 255, 255,\n",
       "         255, 255, 255,   0,   0,   0,   0,   0,   0,   0,   0,   0],\n",
       "        [  0,   0,   0,   0,   0,   0,   0,   0,   0,   0,   0,   0,   0,\n",
       "           0,   0,   0,   0,   0,   0,   0,   0,  70,   0,   0,   0,   0,\n",
       "         145,   0, 247, 255,   0,   0,   0,   0, 255,   0,   0, 255,   0,\n",
       "           0,   0, 255,   0,   0,  54, 241,   0,   0,   0,  64, 255, 255,\n",
       "          66,   0,   0,   0,   0,   0,   0,   0,   0,   0,   0,   0],\n",
       "        [  0,   0,   0, 247, 255,   0,   0,   0,   0,   0, 171, 255, 255,\n",
       "          22,   0,   0,   0,   0, 255,   0,  64, 192,   0,   0,   0, 188,\n",
       "         191,   0,  20, 255,   0,   0,   0, 192,  64,   0,   0, 255,   0,\n",
       "           0,   0, 140, 213,   0,   0, 255,   0,   0,   0,   0, 255,  12,\n",
       "         128, 255,   0,   0,   0,   0,   0, 255, 255,   0,   0,   0],\n",
       "        [  0,   0,   0,   0,   0,   0,   0,   0,   0,   0,   0,   0,   0,\n",
       "           0,   0,   0,   0,   0,   0,   0,   0,   0,   0,   0,   0,   0,\n",
       "          56,  20, 241,   0,   0,  10,   0,   0, 255, 255, 223,   0, 255,\n",
       "         255,   0,   0,   0, 255, 247, 255,   0,   0,   0,   0,   0, 255,\n",
       "         245,   0,   0,   0,   0,   0,   0,   0,   0,   0,   0,   0],\n",
       "        [  0,   0,   0,   0,   0,   0,   0,   0,   0,   0,   0,   0,   0,\n",
       "           0,   0,   0,   0,   0,   0,   0, 255, 255,   0,   0,   0,   0,\n",
       "           0, 255, 255, 255,   0,   0,   0,   0, 255, 255, 255,   0,   0,\n",
       "         255,   0,   0, 154,   0, 255,   0,   8, 255,   0,   0,   0,   0,\n",
       "         255,   0, 255,   0,   0,   0,   0,   0, 255, 255,  24,   0],\n",
       "        [  0,   0,   0,   0,   0,   0,   0,   0,   0,   0,   0,   0,   0,\n",
       "           0,   0,   0,   0,   0,   0,   0,   0,   0,   0,   0,   0,   0,\n",
       "           0, 160, 207,   0,   0, 215,   0,   0,   0,   0,   0,   0,  50,\n",
       "           0,   0,   0,   0,   0,  78,  30,   0,   0,   0,   0,   0,   0,\n",
       "         134,   0,   0,   0,   0,   0,   0, 247,   0,   0,   0,   0]],\n",
       "       dtype=uint8),\n",
       " <tf.Tensor 'Placeholder_1:0' shape=(?, 2) dtype=float32>: array([[0, 1],\n",
       "        [1, 0],\n",
       "        [1, 0],\n",
       "        [0, 1],\n",
       "        [0, 1],\n",
       "        [0, 1]]),\n",
       " <tf.Tensor 'Placeholder_2:0' shape=(?,) dtype=int64>: [1, 0, 0, 1, 1, 1]}"
      ]
     },
     "execution_count": 35,
     "metadata": {},
     "output_type": "execute_result"
    }
   ],
   "source": [
    "feed_dict_test"
   ]
  },
  {
   "cell_type": "code",
   "execution_count": 36,
   "metadata": {
    "collapsed": true
   },
   "outputs": [],
   "source": [
    "def print_accuracy():\n",
    "    # Use TensorFlow to compute the accuracy.\n",
    "    acc = session.run(accuracy, feed_dict=feed_dict_test)\n",
    "    \n",
    "    # Print the accuracy.\n",
    "    print(\"Accuracy on test-set: {0:.1%}\".format(acc))"
   ]
  },
  {
   "cell_type": "code",
   "execution_count": 37,
   "metadata": {
    "collapsed": true
   },
   "outputs": [],
   "source": [
    "def print_confusion_matrix():\n",
    "    # Get the true classifications for the test-set.\n",
    "    cls_true = feed_dict_test['y_true_cls']\n",
    "    \n",
    "    # Get the predicted classifications for the test-set.\n",
    "    cls_pred = session.run(y_pred_cls, feed_dict=feed_dict_test)\n",
    "\n",
    "    # Get the confusion matrix using sklearn.\n",
    "    cm = confusion_matrix(y_true=cls_true,\n",
    "                          y_pred=cls_pred)\n",
    "\n",
    "    # Print the confusion matrix as text.\n",
    "    print(cm)\n",
    "\n",
    "    # Plot the confusion matrix as an image.\n",
    "    plt.imshow(cm, interpolation='nearest', cmap=plt.cm.Blues)\n",
    "\n",
    "    # Make various adjustments to the plot.\n",
    "    plt.tight_layout()\n",
    "    plt.colorbar()\n",
    "    tick_marks = np.arange(num_classes)\n",
    "    plt.xticks(tick_marks, range(num_classes))\n",
    "    plt.yticks(tick_marks, range(num_classes))\n",
    "    plt.xlabel('Predicted')\n",
    "    plt.ylabel('True')\n",
    "    \n",
    "    # Ensure the plot is shown correctly with multiple plots\n",
    "    # in a single Notebook cell.\n",
    "    plt.show()"
   ]
  },
  {
   "cell_type": "code",
   "execution_count": 38,
   "metadata": {},
   "outputs": [],
   "source": [
    "def plot_example_errors():\n",
    "    # Use TensorFlow to get a list of boolean values\n",
    "    # whether each test-image has been correctly classified,\n",
    "    # and a list for the predicted class of each image.\n",
    "    correct, cls_pred = session.run([correct_prediction, y_pred_cls],\n",
    "                                    feed_dict=feed_dict_test)\n",
    "    \n",
    "    # Negate the boolean array.\n",
    "    incorrect = (correct == False)\n",
    "    \n",
    "    # Get the images from the test-set that have been\n",
    "    # incorrectly classified.\n",
    "    \n",
    "    images = np.tile(Xtest[incorrect],(9,1))\n",
    "    \n",
    "    # Get the predicted classes for those images.\n",
    "    cls_pred = np.tile(cls_pred[incorrect],9)\n",
    "    \n",
    "    # Get the true classes for those images.\n",
    "    cls_true = np.tile(np.array(feed_dict_test[y_true_cls])[incorrect],9)\n",
    "    \n",
    "    # Plot the first 9 images.\n",
    "    plot_images(images=images[0:9],\n",
    "                cls_true=cls_true[0:9],\n",
    "                cls_pred=cls_pred[0:9])"
   ]
  },
  {
   "cell_type": "code",
   "execution_count": 39,
   "metadata": {
    "collapsed": true
   },
   "outputs": [],
   "source": [
    "def plot_weights():\n",
    "    # Get the values for the weights from the TensorFlow variable.\n",
    "    w = session.run(weights)\n",
    "    \n",
    "    # Get the lowest and highest values for the weights.\n",
    "    # This is used to correct the colour intensity across\n",
    "    # the images so they can be compared with each other.\n",
    "    w_min = np.min(w)\n",
    "    w_max = np.max(w)\n",
    "\n",
    "    # Create figure with 3x4 sub-plots,\n",
    "    # where the last 2 sub-plots are unused.\n",
    "    fig, axes = plt.subplots(3, 4)\n",
    "    fig.subplots_adjust(hspace=0.3, wspace=0.3)\n",
    "\n",
    "    for i, ax in enumerate(axes.flat):\n",
    "        # Only use the weights for the first 10 sub-plots.\n",
    "        if i<10:\n",
    "            # Get the weights for the i'th digit and reshape it.\n",
    "            # Note that w.shape == (img_size_flat, 10)\n",
    "            image = w[:, i].reshape(img_shape)\n",
    "\n",
    "            # Set the label for the sub-plot.\n",
    "            ax.set_xlabel(\"Weights: {0}\".format(i))\n",
    "\n",
    "            # Plot the image.\n",
    "            ax.imshow(image, vmin=w_min, vmax=w_max, cmap='seismic')\n",
    "\n",
    "        # Remove ticks from each sub-plot.\n",
    "        ax.set_xticks([])\n",
    "        ax.set_yticks([])\n",
    "        \n",
    "    # Ensure the plot is shown correctly with multiple plots\n",
    "    # in a single Notebook cell.\n",
    "    plt.show()"
   ]
  },
  {
   "cell_type": "code",
   "execution_count": 40,
   "metadata": {},
   "outputs": [
    {
     "name": "stdout",
     "output_type": "stream",
     "text": [
      "Accuracy on test-set: 33.3%\n"
     ]
    }
   ],
   "source": [
    "print_accuracy()"
   ]
  },
  {
   "cell_type": "code",
   "execution_count": 41,
   "metadata": {},
   "outputs": [
    {
     "data": {
      "image/png": "[encoded data removed]",
      "text/plain": [
       "<matplotlib.figure.Figure at 0x213ed4aaeb8>"
      ]
     },
     "metadata": {},
     "output_type": "display_data"
    }
   ],
   "source": [
    "plot_example_errors()"
   ]
  },
  {
   "cell_type": "code",
   "execution_count": 42,
   "metadata": {},
   "outputs": [],
   "source": [
    "optimize(num_iterations=2)"
   ]
  },
  {
   "cell_type": "code",
   "execution_count": 43,
   "metadata": {},
   "outputs": [
    {
     "name": "stdout",
     "output_type": "stream",
     "text": [
      "Accuracy on test-set: 66.7%\n"
     ]
    }
   ],
   "source": [
    "print_accuracy()"
   ]
  },
  {
   "cell_type": "code",
   "execution_count": 44,
   "metadata": {},
   "outputs": [
    {
     "data": {
      "image/png": "[encoded data removed]",
      "text/plain": [
       "<matplotlib.figure.Figure at 0x213ed88b128>"
      ]
     },
     "metadata": {},
     "output_type": "display_data"
    }
   ],
   "source": [
    "plot_example_errors()"
   ]
  },
  {
   "cell_type": "code",
   "execution_count": 45,
   "metadata": {
    "collapsed": true
   },
   "outputs": [],
   "source": [
    "optimize(num_iterations=10)"
   ]
  },
  {
   "cell_type": "code",
   "execution_count": 46,
   "metadata": {},
   "outputs": [
    {
     "name": "stdout",
     "output_type": "stream",
     "text": [
      "Accuracy on test-set: 83.3%\n"
     ]
    }
   ],
   "source": [
    "print_accuracy()"
   ]
  },
  {
   "cell_type": "code",
   "execution_count": null,
   "metadata": {
    "collapsed": true
   },
   "outputs": [],
   "source": []
  }
 ],
 "metadata": {
  "kernelspec": {
   "display_name": "Python 3",
   "language": "python",
   "name": "python3"
  },
  "language_info": {
   "codemirror_mode": {
    "name": "ipython",
    "version": 3
   },
   "file_extension": ".py",
   "mimetype": "text/x-python",
   "name": "python",
   "nbconvert_exporter": "python",
   "pygments_lexer": "ipython3",
   "version": "3.6.1"
  }
 },
 "nbformat": 4,
 "nbformat_minor": 2
}
