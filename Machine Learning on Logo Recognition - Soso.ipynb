{
 "cells": [
  {
   "cell_type": "code",
   "execution_count": 1,
   "metadata": {
    "collapsed": true
   },
   "outputs": [],
   "source": [
    "import warnings\n",
    "warnings.filterwarnings('ignore')"
   ]
  },
  {
   "cell_type": "markdown",
   "metadata": {},
   "source": [
    "### Data preparation"
   ]
  },
  {
   "cell_type": "code",
   "execution_count": 2,
   "metadata": {
    "scrolled": true
   },
   "outputs": [
    {
     "name": "stdout",
     "output_type": "stream",
     "text": [
      "CPU times: user 13.7 s, sys: 2.92 s, total: 16.7 s\n",
      "Wall time: 16.6 s\n"
     ]
    }
   ],
   "source": [
    "%%time\n",
    "import warnings\n",
    "warnings.filterwarnings('ignore')\n",
    "\n",
    "import numpy as np\n",
    "import cv2\n",
    "from PIL import Image\n",
    "\n",
    "%matplotlib inline\n",
    "import matplotlib.pyplot as plt\n",
    "\n",
    "from glob import glob\n",
    "import os\n",
    "\n",
    "imPath = \"Database/All_pictures/\"\n",
    "ls_path = glob(os.path.join(imPath, '*' ))\n",
    "\n",
    "\n",
    "images_base_vide=[]\n",
    "label_nom_vide=[]\n",
    "\n",
    "for file in ls_path: \n",
    "    im = np.array(Image.open(file))[:,:,3]   #On charge l'image\n",
    "    images_base_vide+=[im]\n",
    "    label_nom_vide+=[file.split('/')[2].split('_')[0]]   ## Attention ici Solène si ça marche pas . Pas meme code pour chemin ...\n",
    "\n",
    "images_base_raw=np.array(images_base_vide)\n",
    "label_nom_raw=np.array(label_nom_vide)\n",
    "\n",
    "def print_exemple_image(num_image,X=images_base_raw,y=label_nom_vide) :\n",
    "    plt.imshow(X[num_image],cmap='Greys')\n",
    "    plt.suptitle(\"Image n°\"+str(num_image)+\" : \"+str(y[num_image]), fontsize=20)\n",
    "    \n",
    "from sklearn.model_selection import train_test_split\n",
    "\n",
    "ramdom_seed_fixée=5\n",
    "\n",
    "def get_split_classique() :\n",
    "    return train_test_split(images_base_raw, label_nom_raw, test_size=0.20, random_state=ramdom_seed_fixée)\n",
    "\n",
    "X_train_classique , X_test_classique , Y_train_classique , Y_test_classique = get_split_classique()\n",
    "\n",
    "label_to_OneHot = {'Deezer':[1,0,0,0],'Messenger':[0,1,0,0],'Facebook':[0,0,1,0],'Tinder':[0,0,0,1]}\n",
    "label_to_num = {'Deezer':0 ,'Messenger':1 ,'Facebook':2,'Tinder':3} \n",
    "\n",
    "def transformation_dictionnaire_image(X,Y,data_aug=1,num_pixel_cote=64) : \n",
    "    taille = X.shape[0]\n",
    "    data_base={'image':[], 'data': [], 'label_num' : [],'label_OneHot' : [],'nom_label' :[]}\n",
    "    for i in range(taille) : \n",
    "        im = cv2.resize(X[i], (num_pixel_cote,num_pixel_cote))\n",
    "        name=Y[i]\n",
    "        \n",
    "        for k in range(data_aug):\n",
    "            num_rows, num_cols = im.shape[:2]\n",
    "            rotation_matrix = cv2.getRotationMatrix2D((num_cols/2, num_rows/2), k*90, 1)\n",
    "            im_rotation = cv2.warpAffine(im, rotation_matrix, (num_cols, num_rows))\n",
    "        \n",
    "            \n",
    "            data_base['image']+=[im_rotation]\n",
    "            data_base['data']+=[np.ndarray.flatten(im_rotation)]\n",
    "            data_base['label_num']+=[label_to_num[name]]\n",
    "            data_base['label_OneHot']+=[label_to_OneHot[name]]\n",
    "            data_base['nom_label']+=[name]\n",
    "            \n",
    "            \n",
    "    data_base['image']=np.array( data_base['image'])\n",
    "    data_base['data']=np.array(data_base['data'])\n",
    "    data_base['label_num']=np.array(data_base['label_num'])\n",
    "    data_base['label_OneHot']=np.array(data_base['label_OneHot'])\n",
    "    data_base['nom_label']=np.array(data_base['nom_label'])\n",
    "    \n",
    "    return data_base\n",
    "        \n",
    "Train_Classique = transformation_dictionnaire_image(X_train_classique,Y_train_classique)\n",
    "Test_Classique = transformation_dictionnaire_image(X_test_classique,Y_test_classique)\n",
    "\n",
    "catégories= ['Deezer','Facebook','Messenger','Tinder']\n",
    "\n",
    "X_train_progressif , X_test_progressif , Y_train_progressif , Y_test_progressif = [],[],[],[]\n",
    "\n",
    "for cat in catégories : \n",
    "    imPath = \"Database/\"+cat+\"/\"\n",
    "    ls_path = glob(os.path.join(imPath, '*' ))\n",
    "\n",
    "    taille_train=len(ls_path)-len(ls_path)//5\n",
    "    #Train\n",
    "    for file in ls_path[:taille_train]: \n",
    "        im = np.array(Image.open(file))[:,:,3]   #On charge l'image\n",
    "        X_train_progressif+=[im]\n",
    "        Y_train_progressif+=[file.split('/')[2].split('_')[0]]\n",
    "\n",
    "    #Test\n",
    "    for file in ls_path[taille_train:]: \n",
    "        im = np.array(Image.open(file))[:,:,3]   #On charge l'image\n",
    "        X_test_progressif+=[im]\n",
    "        Y_test_progressif+=[file.split('/')[2].split('_')[0]]\n",
    "    \n",
    "\n",
    "X_train_progressif=np.array(X_train_progressif)\n",
    "Y_train_progressif=np.array(Y_train_progressif)\n",
    "X_test_progressif=np.array(X_test_progressif)\n",
    "Y_test_progressif=np.array(Y_test_progressif)\n",
    "\n",
    "\n",
    "Train_Progressif = transformation_dictionnaire_image(X_train_progressif,Y_train_progressif)\n",
    "Test_Progressif = transformation_dictionnaire_image(X_test_progressif,Y_test_progressif)"
   ]
  },
  {
   "cell_type": "markdown",
   "metadata": {},
   "source": [
    "=> Multiclass classification algorithms. Let's try some and compair them\n",
    "\n",
    "https://scikit-learn.org/stable/modules/multiclass.html"
   ]
  },
  {
   "cell_type": "code",
   "execution_count": 3,
   "metadata": {
    "collapsed": true
   },
   "outputs": [],
   "source": [
    "from sklearn import metrics\n",
    "from sklearn.metrics import confusion_matrix\n",
    "import seaborn as sns; sns.set()"
   ]
  },
  {
   "cell_type": "markdown",
   "metadata": {},
   "source": [
    "## 1) Random Forest - Classique "
   ]
  },
  {
   "cell_type": "code",
   "execution_count": 4,
   "metadata": {
    "collapsed": true
   },
   "outputs": [],
   "source": [
    "from sklearn.ensemble import RandomForestClassifier\n",
    "model = RandomForestClassifier()\n",
    "model.fit(Train_Classique['data'],Train_Classique['label_num'])\n",
    "ypred_classique1 = model.predict(Test_Classique['data'])"
   ]
  },
  {
   "cell_type": "code",
   "execution_count": 5,
   "metadata": {
    "scrolled": true
   },
   "outputs": [
    {
     "name": "stdout",
     "output_type": "stream",
     "text": [
      "             precision    recall  f1-score   support\n",
      "\n",
      "          0       0.60      0.45      0.52        88\n",
      "          1       0.38      0.41      0.39        70\n",
      "          2       0.47      0.51      0.49        75\n",
      "          3       0.52      0.59      0.55        70\n",
      "\n",
      "avg / total       0.50      0.49      0.49       303\n",
      "\n"
     ]
    }
   ],
   "source": [
    "print(metrics.classification_report(ypred_classique1, Test_Classique['label_num']))"
   ]
  },
  {
   "cell_type": "code",
   "execution_count": 6,
   "metadata": {},
   "outputs": [
    {
     "data": {
      "image/png": "[encoded data removed]",
      "text/plain": [
       "<Figure size 432x288 with 1 Axes>"
      ]
     },
     "metadata": {},
     "output_type": "display_data"
    }
   ],
   "source": [
    "# Matrice de confusion pour analyse des résultats \n",
    "mat = confusion_matrix(Test_Classique['label_num'], ypred_classique1)\n",
    "sns.heatmap(mat.T, square=True, annot=True, fmt='d', cbar=False)\n",
    "plt.xlabel('true label')\n",
    "plt.ylabel('predicted label');"
   ]
  },
  {
   "cell_type": "markdown",
   "metadata": {},
   "source": [
    "## 1) Random Forest - Progressif"
   ]
  },
  {
   "cell_type": "code",
   "execution_count": 7,
   "metadata": {
    "collapsed": true
   },
   "outputs": [],
   "source": [
    "model = RandomForestClassifier()\n",
    "model.fit(Train_Progressif['data'],Train_Progressif['label_num'])\n",
    "ypred_progressif2 = model.predict(Test_Progressif['data'])"
   ]
  },
  {
   "cell_type": "code",
   "execution_count": 8,
   "metadata": {},
   "outputs": [
    {
     "name": "stdout",
     "output_type": "stream",
     "text": [
      "             precision    recall  f1-score   support\n",
      "\n",
      "          0       0.52      0.45      0.48        84\n",
      "          1       0.40      0.38      0.39        77\n",
      "          2       0.49      0.51      0.50        80\n",
      "          3       0.37      0.44      0.40        59\n",
      "\n",
      "avg / total       0.45      0.45      0.45       300\n",
      "\n"
     ]
    }
   ],
   "source": [
    "print(metrics.classification_report(ypred_progressif2, Test_Progressif['label_num']))"
   ]
  },
  {
   "cell_type": "code",
   "execution_count": 9,
   "metadata": {},
   "outputs": [
    {
     "data": {
      "image/png": "[encoded data removed]",
      "text/plain": [
       "<Figure size 432x288 with 1 Axes>"
      ]
     },
     "metadata": {},
     "output_type": "display_data"
    }
   ],
   "source": [
    "# Matrice de confusion \n",
    "mat = confusion_matrix(Test_Progressif['label_num'], ypred_progressif2)\n",
    "sns.heatmap(mat.T, square=True, annot=True, fmt='d', cbar=False)\n",
    "plt.xlabel('true label')\n",
    "plt.ylabel('predicted label');"
   ]
  },
  {
   "cell_type": "markdown",
   "metadata": {},
   "source": [
    "##  2) Decision tree - Classic"
   ]
  },
  {
   "cell_type": "code",
   "execution_count": 10,
   "metadata": {
    "collapsed": true
   },
   "outputs": [],
   "source": [
    "from sklearn import tree\n",
    "from sklearn.tree import DecisionTreeClassifier\n"
   ]
  },
  {
   "cell_type": "code",
   "execution_count": 11,
   "metadata": {
    "collapsed": true,
    "scrolled": true
   },
   "outputs": [],
   "source": [
    "Decision = DecisionTreeClassifier()\n",
    "Decision.fit(Train_Classique['data'], Train_Classique['label_num'])\n",
    "ypred_classique2 = Decision.predict(Test_Classique['data'])"
   ]
  },
  {
   "cell_type": "code",
   "execution_count": 12,
   "metadata": {},
   "outputs": [
    {
     "name": "stdout",
     "output_type": "stream",
     "text": [
      "             precision    recall  f1-score   support\n",
      "\n",
      "          0       0.42      0.34      0.38        82\n",
      "          1       0.34      0.41      0.37        63\n",
      "          2       0.46      0.46      0.46        80\n",
      "          3       0.46      0.46      0.46        78\n",
      "\n",
      "avg / total       0.42      0.42      0.42       303\n",
      "\n"
     ]
    }
   ],
   "source": [
    "print(metrics.classification_report(ypred_classique2, Test_Classique['label_num']))"
   ]
  },
  {
   "cell_type": "code",
   "execution_count": 13,
   "metadata": {},
   "outputs": [
    {
     "data": {
      "image/png": "[encoded data removed]",
      "text/plain": [
       "<Figure size 432x288 with 1 Axes>"
      ]
     },
     "metadata": {},
     "output_type": "display_data"
    }
   ],
   "source": [
    "mat = confusion_matrix(Test_Classique['label_num'], ypred_classique2)\n",
    "sns.heatmap(mat.T, square=True, annot=True, fmt='d', cbar=False)\n",
    "plt.xlabel('true label')\n",
    "plt.ylabel('predicted label');"
   ]
  },
  {
   "cell_type": "markdown",
   "metadata": {},
   "source": [
    "##  2) Decision tree - Progressif"
   ]
  },
  {
   "cell_type": "code",
   "execution_count": 14,
   "metadata": {
    "collapsed": true
   },
   "outputs": [],
   "source": [
    "Decision = DecisionTreeClassifier()\n",
    "Decision.fit(Train_Progressif['data'], Train_Progressif['label_num'])\n",
    "ypred_progressif2 = Decision.predict(Test_Progressif['data'])"
   ]
  },
  {
   "cell_type": "code",
   "execution_count": 15,
   "metadata": {
    "scrolled": true
   },
   "outputs": [
    {
     "name": "stdout",
     "output_type": "stream",
     "text": [
      "             precision    recall  f1-score   support\n",
      "\n",
      "          0       0.42      0.46      0.44        67\n",
      "          1       0.45      0.42      0.44        78\n",
      "          2       0.36      0.39      0.38        77\n",
      "          3       0.34      0.31      0.32        78\n",
      "\n",
      "avg / total       0.39      0.39      0.39       300\n",
      "\n"
     ]
    }
   ],
   "source": [
    "print(metrics.classification_report(ypred_progressif2, Test_Progressif['label_num']))"
   ]
  },
  {
   "cell_type": "code",
   "execution_count": 16,
   "metadata": {},
   "outputs": [
    {
     "data": {
      "image/png": "[encoded data removed]",
      "text/plain": [
       "<Figure size 432x288 with 1 Axes>"
      ]
     },
     "metadata": {},
     "output_type": "display_data"
    }
   ],
   "source": [
    "mat = confusion_matrix(Test_Progressif['label_num'], ypred_progressif2)\n",
    "sns.heatmap(mat.T, square=True, annot=True, fmt='d', cbar=False)\n",
    "plt.xlabel('true label')\n",
    "plt.ylabel('predicted label');"
   ]
  },
  {
   "cell_type": "markdown",
   "metadata": {},
   "source": [
    "## 3) Logistic Regression - Classique "
   ]
  },
  {
   "cell_type": "code",
   "execution_count": 17,
   "metadata": {
    "collapsed": true
   },
   "outputs": [],
   "source": [
    "from sklearn.linear_model import LogisticRegression\n",
    "from sklearn.metrics import mean_squared_error, r2_score"
   ]
  },
  {
   "cell_type": "code",
   "execution_count": 18,
   "metadata": {
    "collapsed": true
   },
   "outputs": [],
   "source": [
    "# Logistic Regression : uses the cross-entropy loss if the ‘multi_class’ option is set to ‘multinomial’\n",
    "# Essayer une version 1 vs. all par la suite \n",
    "regr = LogisticRegression(random_state=0, solver='lbfgs',multi_class='multinomial')\n",
    "regr.fit(Train_Classique['data'], Train_Classique['label_num']) # Train the model using Train Classique \n",
    "ypred_classique3 = regr.predict(Test_Classique['data'])"
   ]
  },
  {
   "cell_type": "code",
   "execution_count": 19,
   "metadata": {
    "scrolled": false
   },
   "outputs": [
    {
     "name": "stdout",
     "output_type": "stream",
     "text": [
      "Coefficients: \n",
      " [[ 0.00000000e+00 -8.50044761e-06  0.00000000e+00 ...  0.00000000e+00\n",
      "   0.00000000e+00  0.00000000e+00]\n",
      " [ 0.00000000e+00 -1.20998797e-05  0.00000000e+00 ...  0.00000000e+00\n",
      "   0.00000000e+00  0.00000000e+00]\n",
      " [ 0.00000000e+00  2.18255019e-05  0.00000000e+00 ...  0.00000000e+00\n",
      "   0.00000000e+00  0.00000000e+00]\n",
      " [ 0.00000000e+00 -1.22517462e-06  0.00000000e+00 ...  0.00000000e+00\n",
      "   0.00000000e+00  0.00000000e+00]]\n",
      "Mean squared error: 1.15\n",
      "Variance score: 0.05\n"
     ]
    }
   ],
   "source": [
    "# The coefficients\n",
    "print('Coefficients: \\n', regr.coef_)\n",
    "# The mean squared error\n",
    "print(\"Mean squared error: %.2f\"\n",
    "      % mean_squared_error(Test_Classique['label_num'], ypred_classique3))\n",
    "# Explained variance score: \n",
    "print('Variance score: %.2f' % r2_score(Test_Classique['label_num'], ypred_classique3))\n",
    "\n"
   ]
  },
  {
   "cell_type": "code",
   "execution_count": 20,
   "metadata": {
    "scrolled": true
   },
   "outputs": [
    {
     "name": "stdout",
     "output_type": "stream",
     "text": [
      "             precision    recall  f1-score   support\n",
      "\n",
      "          0       0.57      0.54      0.55        70\n",
      "          1       0.38      0.41      0.39        71\n",
      "          2       0.59      0.48      0.53        98\n",
      "          3       0.48      0.59      0.53        64\n",
      "\n",
      "avg / total       0.51      0.50      0.50       303\n",
      "\n"
     ]
    }
   ],
   "source": [
    "print(metrics.classification_report(ypred_classique3, Test_Classique['label_num']))"
   ]
  },
  {
   "cell_type": "code",
   "execution_count": 21,
   "metadata": {
    "scrolled": true
   },
   "outputs": [
    {
     "data": {
      "image/png": "[encoded data removed]",
      "text/plain": [
       "<Figure size 432x288 with 1 Axes>"
      ]
     },
     "metadata": {},
     "output_type": "display_data"
    }
   ],
   "source": [
    "# Matrice de confusion \n",
    "\n",
    "mat = confusion_matrix(Test_Classique['label_num'], ypred_classique3)\n",
    "sns.heatmap(mat.T, square=True, annot=True, fmt='d', cbar=False)\n",
    "plt.xlabel('true label')\n",
    "plt.ylabel('predicted label');"
   ]
  },
  {
   "cell_type": "markdown",
   "metadata": {},
   "source": [
    "## 3) Logistic Regression - Progressif "
   ]
  },
  {
   "cell_type": "code",
   "execution_count": 22,
   "metadata": {
    "collapsed": true
   },
   "outputs": [],
   "source": [
    "regr = LogisticRegression(random_state=0, solver='lbfgs',multi_class='multinomial')\n",
    "regr.fit(Train_Progressif['data'], Train_Progressif['label_num']) # Train the model using Train Classique \n",
    "ypred_progressif3 = regr.predict(Test_Progressif['data'])"
   ]
  },
  {
   "cell_type": "code",
   "execution_count": 23,
   "metadata": {},
   "outputs": [
    {
     "name": "stdout",
     "output_type": "stream",
     "text": [
      "             precision    recall  f1-score   support\n",
      "\n",
      "          0       0.53      0.50      0.52        78\n",
      "          1       0.41      0.40      0.41        75\n",
      "          2       0.49      0.48      0.49        86\n",
      "          3       0.48      0.56      0.52        61\n",
      "\n",
      "avg / total       0.48      0.48      0.48       300\n",
      "\n"
     ]
    }
   ],
   "source": [
    "print(metrics.classification_report(ypred_progressif3, Test_Progressif['label_num']))"
   ]
  },
  {
   "cell_type": "code",
   "execution_count": 24,
   "metadata": {},
   "outputs": [
    {
     "data": {
      "image/png": "[encoded data removed]",
      "text/plain": [
       "<Figure size 432x288 with 1 Axes>"
      ]
     },
     "metadata": {},
     "output_type": "display_data"
    }
   ],
   "source": [
    "# Matrice de confusion \n",
    "\n",
    "mat = confusion_matrix(Test_Progressif['label_num'], ypred_progressif3)\n",
    "sns.heatmap(mat.T, square=True, annot=True, fmt='d', cbar=False)\n",
    "plt.xlabel('true label')\n",
    "plt.ylabel('predicted label');"
   ]
  },
  {
   "cell_type": "markdown",
   "metadata": {},
   "source": [
    "## 4) Mieux qu'un Logistic Regression =>Linear Discriminant "
   ]
  },
  {
   "cell_type": "code",
   "execution_count": 25,
   "metadata": {
    "collapsed": true
   },
   "outputs": [],
   "source": [
    "from sklearn.discriminant_analysis import LinearDiscriminantAnalysis"
   ]
  },
  {
   "cell_type": "code",
   "execution_count": 26,
   "metadata": {},
   "outputs": [
    {
     "name": "stderr",
     "output_type": "stream",
     "text": [
      "/anaconda3/lib/python3.6/site-packages/sklearn/discriminant_analysis.py:388: UserWarning: Variables are collinear.\n",
      "  warnings.warn(\"Variables are collinear.\")\n"
     ]
    }
   ],
   "source": [
    "discri = LinearDiscriminantAnalysis()\n",
    "discri.fit(Train_Classique['data'], Train_Classique['label_num']) # Train the model using Train Classique \n",
    "ypred_classique4 = discri.predict(Test_Classique['data'])"
   ]
  },
  {
   "cell_type": "code",
   "execution_count": 27,
   "metadata": {},
   "outputs": [
    {
     "name": "stdout",
     "output_type": "stream",
     "text": [
      "             precision    recall  f1-score   support\n",
      "\n",
      "          0       0.54      0.41      0.46        88\n",
      "          1       0.21      0.37      0.27        43\n",
      "          2       0.28      0.31      0.29        71\n",
      "          3       0.48      0.38      0.42       101\n",
      "\n",
      "avg / total       0.41      0.37      0.38       303\n",
      "\n"
     ]
    }
   ],
   "source": [
    "print(metrics.classification_report(ypred_classique4, Test_Classique['label_num']))"
   ]
  },
  {
   "cell_type": "code",
   "execution_count": 28,
   "metadata": {
    "scrolled": true
   },
   "outputs": [
    {
     "data": {
      "image/png": "[encoded data removed]",
      "text/plain": [
       "<Figure size 432x288 with 1 Axes>"
      ]
     },
     "metadata": {},
     "output_type": "display_data"
    }
   ],
   "source": [
    "# Matrice de confusion \n",
    "\n",
    "mat = confusion_matrix(Test_Classique['label_num'], ypred_classique4)\n",
    "sns.heatmap(mat.T, square=True, annot=True, fmt='d', cbar=False)\n",
    "plt.xlabel('true label')\n",
    "plt.ylabel('predicted label');"
   ]
  },
  {
   "cell_type": "markdown",
   "metadata": {},
   "source": [
    "## 5) One vs. all - label_to_num"
   ]
  },
  {
   "cell_type": "code",
   "execution_count": 31,
   "metadata": {
    "collapsed": true
   },
   "outputs": [],
   "source": [
    "from sklearn.multiclass import OneVsRestClassifier\n",
    "from sklearn.svm import LinearSVC"
   ]
  },
  {
   "cell_type": "code",
   "execution_count": 32,
   "metadata": {
    "collapsed": true
   },
   "outputs": [],
   "source": [
    "OVR= OneVsRestClassifier(LinearSVC(random_state=0))\n",
    "OVR.fit(Train_Classique['data'], Train_Classique['label_num']) # Train the model using Train Classique \n",
    "ypred_classique5 = OVR.predict(Test_Classique['data'])"
   ]
  },
  {
   "cell_type": "code",
   "execution_count": 33,
   "metadata": {},
   "outputs": [
    {
     "name": "stdout",
     "output_type": "stream",
     "text": [
      "             precision    recall  f1-score   support\n",
      "\n",
      "          0       0.61      0.48      0.54        85\n",
      "          1       0.29      0.40      0.33        55\n",
      "          2       0.59      0.47      0.52       100\n",
      "          3       0.44      0.56      0.49        63\n",
      "\n",
      "avg / total       0.51      0.48      0.49       303\n",
      "\n"
     ]
    }
   ],
   "source": [
    "print(metrics.classification_report(ypred_classique5, Test_Classique['label_num']))"
   ]
  },
  {
   "cell_type": "code",
   "execution_count": 34,
   "metadata": {},
   "outputs": [
    {
     "data": {
      "image/png": "[encoded data removed]",
      "text/plain": [
       "<Figure size 432x288 with 1 Axes>"
      ]
     },
     "metadata": {},
     "output_type": "display_data"
    }
   ],
   "source": [
    "# Matrice de confusion \n",
    "\n",
    "mat = confusion_matrix(Test_Classique['label_num'], ypred_classique5)\n",
    "sns.heatmap(mat.T, square=True, annot=True, fmt='d', cbar=False)\n",
    "plt.xlabel('true label')\n",
    "plt.ylabel('predicted label');"
   ]
  },
  {
   "cell_type": "markdown",
   "metadata": {},
   "source": [
    "## 5) One vs all - OneHot"
   ]
  },
  {
   "cell_type": "code",
   "execution_count": 36,
   "metadata": {
    "collapsed": true
   },
   "outputs": [],
   "source": [
    "OVR= OneVsRestClassifier(LinearSVC(random_state=0))\n",
    "OVR.fit(Train_Classique['data'], Train_Classique['label_OneHot']) # Train the model using Train Classique \n",
    "ypred_classique6 = OVR.predict(Test_Classique['data'])"
   ]
  },
  {
   "cell_type": "code",
   "execution_count": 37,
   "metadata": {},
   "outputs": [
    {
     "name": "stdout",
     "output_type": "stream",
     "text": [
      "             precision    recall  f1-score   support\n",
      "\n",
      "          0       0.60      0.48      0.53        84\n",
      "          1       0.26      0.33      0.29        61\n",
      "          2       0.64      0.48      0.55       107\n",
      "          3       0.44      0.50      0.47        70\n",
      "\n",
      "avg / total       0.51      0.45      0.48       322\n",
      "\n"
     ]
    }
   ],
   "source": [
    "print(metrics.classification_report(ypred_classique6, Test_Classique['label_OneHot']))"
   ]
  },
  {
   "cell_type": "code",
   "execution_count": 39,
   "metadata": {},
   "outputs": [
    {
     "ename": "ValueError",
     "evalue": "Classification metrics can't handle a mix of multilabel-indicator and multiclass targets",
     "output_type": "error",
     "traceback": [
      "\u001b[0;31m---------------------------------------------------------------------------\u001b[0m",
      "\u001b[0;31mValueError\u001b[0m                                Traceback (most recent call last)",
      "\u001b[0;32m<ipython-input-39-954139b474c5>\u001b[0m in \u001b[0;36m<module>\u001b[0;34m()\u001b[0m\n\u001b[1;32m      1\u001b[0m \u001b[0;31m# Matrice de confusion\u001b[0m\u001b[0;34m\u001b[0m\u001b[0;34m\u001b[0m\u001b[0m\n\u001b[1;32m      2\u001b[0m \u001b[0;34m\u001b[0m\u001b[0m\n\u001b[0;32m----> 3\u001b[0;31m \u001b[0mmat\u001b[0m \u001b[0;34m=\u001b[0m \u001b[0mconfusion_matrix\u001b[0m\u001b[0;34m(\u001b[0m\u001b[0mTest_Classique\u001b[0m\u001b[0;34m[\u001b[0m\u001b[0;34m'label_OneHot'\u001b[0m\u001b[0;34m]\u001b[0m\u001b[0;34m,\u001b[0m \u001b[0mypred_classique5\u001b[0m\u001b[0;34m)\u001b[0m\u001b[0;34m\u001b[0m\u001b[0m\n\u001b[0m\u001b[1;32m      4\u001b[0m \u001b[0msns\u001b[0m\u001b[0;34m.\u001b[0m\u001b[0mheatmap\u001b[0m\u001b[0;34m(\u001b[0m\u001b[0mmat\u001b[0m\u001b[0;34m.\u001b[0m\u001b[0mT\u001b[0m\u001b[0;34m,\u001b[0m \u001b[0msquare\u001b[0m\u001b[0;34m=\u001b[0m\u001b[0;32mTrue\u001b[0m\u001b[0;34m,\u001b[0m \u001b[0mannot\u001b[0m\u001b[0;34m=\u001b[0m\u001b[0;32mTrue\u001b[0m\u001b[0;34m,\u001b[0m \u001b[0mfmt\u001b[0m\u001b[0;34m=\u001b[0m\u001b[0;34m'd'\u001b[0m\u001b[0;34m,\u001b[0m \u001b[0mcbar\u001b[0m\u001b[0;34m=\u001b[0m\u001b[0;32mFalse\u001b[0m\u001b[0;34m)\u001b[0m\u001b[0;34m\u001b[0m\u001b[0m\n\u001b[1;32m      5\u001b[0m \u001b[0mplt\u001b[0m\u001b[0;34m.\u001b[0m\u001b[0mxlabel\u001b[0m\u001b[0;34m(\u001b[0m\u001b[0;34m'true label'\u001b[0m\u001b[0;34m)\u001b[0m\u001b[0;34m\u001b[0m\u001b[0m\n",
      "\u001b[0;32m/anaconda3/lib/python3.6/site-packages/sklearn/metrics/classification.py\u001b[0m in \u001b[0;36mconfusion_matrix\u001b[0;34m(y_true, y_pred, labels, sample_weight)\u001b[0m\n\u001b[1;32m    248\u001b[0m \u001b[0;34m\u001b[0m\u001b[0m\n\u001b[1;32m    249\u001b[0m     \"\"\"\n\u001b[0;32m--> 250\u001b[0;31m     \u001b[0my_type\u001b[0m\u001b[0;34m,\u001b[0m \u001b[0my_true\u001b[0m\u001b[0;34m,\u001b[0m \u001b[0my_pred\u001b[0m \u001b[0;34m=\u001b[0m \u001b[0m_check_targets\u001b[0m\u001b[0;34m(\u001b[0m\u001b[0my_true\u001b[0m\u001b[0;34m,\u001b[0m \u001b[0my_pred\u001b[0m\u001b[0;34m)\u001b[0m\u001b[0;34m\u001b[0m\u001b[0m\n\u001b[0m\u001b[1;32m    251\u001b[0m     \u001b[0;32mif\u001b[0m \u001b[0my_type\u001b[0m \u001b[0;32mnot\u001b[0m \u001b[0;32min\u001b[0m \u001b[0;34m(\u001b[0m\u001b[0;34m\"binary\"\u001b[0m\u001b[0;34m,\u001b[0m \u001b[0;34m\"multiclass\"\u001b[0m\u001b[0;34m)\u001b[0m\u001b[0;34m:\u001b[0m\u001b[0;34m\u001b[0m\u001b[0m\n\u001b[1;32m    252\u001b[0m         \u001b[0;32mraise\u001b[0m \u001b[0mValueError\u001b[0m\u001b[0;34m(\u001b[0m\u001b[0;34m\"%s is not supported\"\u001b[0m \u001b[0;34m%\u001b[0m \u001b[0my_type\u001b[0m\u001b[0;34m)\u001b[0m\u001b[0;34m\u001b[0m\u001b[0m\n",
      "\u001b[0;32m/anaconda3/lib/python3.6/site-packages/sklearn/metrics/classification.py\u001b[0m in \u001b[0;36m_check_targets\u001b[0;34m(y_true, y_pred)\u001b[0m\n\u001b[1;32m     79\u001b[0m     \u001b[0;32mif\u001b[0m \u001b[0mlen\u001b[0m\u001b[0;34m(\u001b[0m\u001b[0my_type\u001b[0m\u001b[0;34m)\u001b[0m \u001b[0;34m>\u001b[0m \u001b[0;36m1\u001b[0m\u001b[0;34m:\u001b[0m\u001b[0;34m\u001b[0m\u001b[0m\n\u001b[1;32m     80\u001b[0m         raise ValueError(\"Classification metrics can't handle a mix of {0} \"\n\u001b[0;32m---> 81\u001b[0;31m                          \"and {1} targets\".format(type_true, type_pred))\n\u001b[0m\u001b[1;32m     82\u001b[0m \u001b[0;34m\u001b[0m\u001b[0m\n\u001b[1;32m     83\u001b[0m     \u001b[0;31m# We can't have more than one value on y_type => The set is no more needed\u001b[0m\u001b[0;34m\u001b[0m\u001b[0;34m\u001b[0m\u001b[0m\n",
      "\u001b[0;31mValueError\u001b[0m: Classification metrics can't handle a mix of multilabel-indicator and multiclass targets"
     ]
    }
   ],
   "source": [
    "# Matrice de confusion \n",
    "\n",
    "mat = confusion_matrix(Test_Classique['label_OneHot'], ypred_classique5)\n",
    "sns.heatmap(mat.T, square=True, annot=True, fmt='d', cbar=False)\n",
    "plt.xlabel('true label')\n",
    "plt.ylabel('predicted label');"
   ]
  },
  {
   "cell_type": "code",
   "execution_count": null,
   "metadata": {
    "collapsed": true
   },
   "outputs": [],
   "source": []
  }
 ],
 "metadata": {
  "kernelspec": {
   "display_name": "Python 3",
   "language": "python",
   "name": "python3"
  },
  "language_info": {
   "codemirror_mode": {
    "name": "ipython",
    "version": 3
   },
   "file_extension": ".py",
   "mimetype": "text/x-python",
   "name": "python",
   "nbconvert_exporter": "python",
   "pygments_lexer": "ipython3",
   "version": "3.6.1"
  },
  "varInspector": {
   "cols": {
    "lenName": 16,
    "lenType": 16,
    "lenVar": 40
   },
   "kernels_config": {
    "python": {
     "delete_cmd_postfix": "",
     "delete_cmd_prefix": "del ",
     "library": "var_list.py",
     "varRefreshCmd": "print(var_dic_list())"
    },
    "r": {
     "delete_cmd_postfix": ") ",
     "delete_cmd_prefix": "rm(",
     "library": "var_list.r",
     "varRefreshCmd": "cat(var_dic_list()) "
    }
   },
   "types_to_exclude": [
    "module",
    "function",
    "builtin_function_or_method",
    "instance",
    "_Feature"
   ],
   "window_display": false
  }
 },
 "nbformat": 4,
 "nbformat_minor": 2
}
