{
 "cells": [
  {
   "cell_type": "code",
   "execution_count": 1,
   "metadata": {},
   "outputs": [],
   "source": [
    "import warnings\n",
    "warnings.filterwarnings('ignore')"
   ]
  },
  {
   "cell_type": "markdown",
   "metadata": {},
   "source": [
    "### Data preparation"
   ]
  },
  {
   "cell_type": "code",
   "execution_count": 2,
   "metadata": {
    "scrolled": true
   },
   "outputs": [
    {
     "name": "stdout",
     "output_type": "stream",
     "text": [
      "CPU times: user 13.9 s, sys: 3.23 s, total: 17.1 s\n",
      "Wall time: 17.2 s\n"
     ]
    }
   ],
   "source": [
    "%%time\n",
    "import warnings\n",
    "warnings.filterwarnings('ignore')\n",
    "\n",
    "import numpy as np\n",
    "import cv2\n",
    "from PIL import Image\n",
    "\n",
    "%matplotlib inline\n",
    "import matplotlib.pyplot as plt\n",
    "\n",
    "from glob import glob\n",
    "import os\n",
    "\n",
    "imPath = \"Database/All_pictures/\"\n",
    "ls_path = glob(os.path.join(imPath, '*' ))\n",
    "\n",
    "\n",
    "images_base_vide=[]\n",
    "label_nom_vide=[]\n",
    "\n",
    "for file in ls_path: \n",
    "    im = np.array(Image.open(file))[:,:,3]   #On charge l'image\n",
    "    images_base_vide+=[im]\n",
    "    label_nom_vide+=[file.split('/')[2].split('_')[0]]   ## Attention ici Solène si ça marche pas . Pas meme code pour chemin ...\n",
    "\n",
    "images_base_raw=np.array(images_base_vide)\n",
    "label_nom_raw=np.array(label_nom_vide)\n",
    "\n",
    "def print_exemple_image(num_image,X=images_base_raw,y=label_nom_vide) :\n",
    "    plt.imshow(X[num_image],cmap='Greys')\n",
    "    plt.suptitle(\"Image n°\"+str(num_image)+\" : \"+str(y[num_image]), fontsize=20)\n",
    "    \n",
    "from sklearn.model_selection import train_test_split\n",
    "\n",
    "ramdom_seed_fixée=5\n",
    "\n",
    "def get_split_classique() :\n",
    "    return train_test_split(images_base_raw, label_nom_raw, test_size=0.20, random_state=ramdom_seed_fixée)\n",
    "\n",
    "X_train_classique , X_test_classique , Y_train_classique , Y_test_classique = get_split_classique()\n",
    "\n",
    "label_to_OneHot = {'Deezer':[1,0,0,0],'Messenger':[0,1,0,0],'Facebook':[0,0,1,0],'Tinder':[0,0,0,1]}\n",
    "label_to_num = {'Deezer':0 ,'Messenger':1 ,'Facebook':2,'Tinder':3} \n",
    "num_to_label={0:'Deezer',1:'Messenger' ,2:'Facebook',3:'Tinder'}\n",
    "\n",
    "def transformation_dictionnaire_image(X,Y,data_aug=1,num_pixel_cote=64) : \n",
    "    taille = X.shape[0]\n",
    "    data_base={'image':[], 'data': [], 'label_num' : [],'label_OneHot' : [],'nom_label' :[]}\n",
    "    for i in range(taille) : \n",
    "        im = cv2.resize(X[i], (num_pixel_cote,num_pixel_cote))\n",
    "        name=Y[i]\n",
    "        \n",
    "        for k in range(data_aug):\n",
    "            num_rows, num_cols = im.shape[:2]\n",
    "            rotation_matrix = cv2.getRotationMatrix2D((num_cols/2, num_rows/2), k*90, 1)\n",
    "            im_rotation = cv2.warpAffine(im, rotation_matrix, (num_cols, num_rows))\n",
    "        \n",
    "            \n",
    "            data_base['image']+=[im_rotation]\n",
    "            data_base['data']+=[np.ndarray.flatten(im_rotation)]\n",
    "            data_base['label_num']+=[label_to_num[name]]\n",
    "            data_base['label_OneHot']+=[label_to_OneHot[name]]\n",
    "            data_base['nom_label']+=[name]\n",
    "            \n",
    "            \n",
    "    data_base['image']=np.array( data_base['image'])\n",
    "    data_base['data']=np.array(data_base['data'])\n",
    "    data_base['label_num']=np.array(data_base['label_num'])\n",
    "    data_base['label_OneHot']=np.array(data_base['label_OneHot'])\n",
    "    data_base['nom_label']=np.array(data_base['nom_label'])\n",
    "    \n",
    "    return data_base\n",
    "        \n",
    "Train_Classique = transformation_dictionnaire_image(X_train_classique,Y_train_classique)\n",
    "Test_Classique = transformation_dictionnaire_image(X_test_classique,Y_test_classique)\n",
    "\n",
    "catégories= ['Deezer','Facebook','Messenger','Tinder']\n",
    "\n",
    "X_train_progressif , X_test_progressif , Y_train_progressif , Y_test_progressif = [],[],[],[]\n",
    "\n",
    "for cat in catégories : \n",
    "    imPath = \"Database/\"+cat+\"/\"\n",
    "    ls_path = glob(os.path.join(imPath, '*' ))\n",
    "\n",
    "    taille_train=len(ls_path)-len(ls_path)//5\n",
    "    #Train\n",
    "    for file in ls_path[:taille_train]: \n",
    "        im = np.array(Image.open(file))[:,:,3]   #On charge l'image\n",
    "        X_train_progressif+=[im]\n",
    "        Y_train_progressif+=[file.split('/')[2].split('_')[0]]\n",
    "\n",
    "    #Test\n",
    "    for file in ls_path[taille_train:]: \n",
    "        im = np.array(Image.open(file))[:,:,3]   #On charge l'image\n",
    "        X_test_progressif+=[im]\n",
    "        Y_test_progressif+=[file.split('/')[2].split('_')[0]]\n",
    "    \n",
    "\n",
    "X_train_progressif=np.array(X_train_progressif)\n",
    "Y_train_progressif=np.array(Y_train_progressif)\n",
    "X_test_progressif=np.array(X_test_progressif)\n",
    "Y_test_progressif=np.array(Y_test_progressif)\n",
    "\n",
    "\n",
    "Train_Progressif = transformation_dictionnaire_image(X_train_progressif,Y_train_progressif)\n",
    "Test_Progressif = transformation_dictionnaire_image(X_test_progressif,Y_test_progressif)"
   ]
  },
  {
   "cell_type": "code",
   "execution_count": 3,
   "metadata": {},
   "outputs": [],
   "source": [
    "Train_dic=Train_Classique\n",
    "Test_dic=Test_Classique"
   ]
  },
  {
   "cell_type": "code",
   "execution_count": 4,
   "metadata": {},
   "outputs": [],
   "source": [
    "# Nombre pixel coté\n",
    "img_size = Train_dic['image'].shape[1]\n",
    "\n",
    "# Nombre de pixel au total\n",
    "img_size_flat = Train_dic['data'].shape[1]\n",
    "\n",
    "# Nombre de pixel longeur et largeur \n",
    "img_shape = Train_dic['image'].shape[1:]\n",
    "\n",
    "# Nombre de classes (si on ajoute de nouveaux logos)\n",
    "num_classes = 4 "
   ]
  },
  {
   "cell_type": "markdown",
   "metadata": {},
   "source": [
    "=> Multiclass classification algorithms. Let's try some and compair them\n",
    "\n",
    "https://scikit-learn.org/stable/modules/multiclass.html"
   ]
  },
  {
   "cell_type": "code",
   "execution_count": 5,
   "metadata": {},
   "outputs": [],
   "source": [
    "from sklearn import metrics\n",
    "from sklearn.metrics import confusion_matrix\n",
    "from sklearn.metrics import accuracy_score\n",
    "import seaborn as sns; sns.set()"
   ]
  },
  {
   "cell_type": "markdown",
   "metadata": {},
   "source": [
    "### 1) Logistic Regression"
   ]
  },
  {
   "cell_type": "code",
   "execution_count": 6,
   "metadata": {},
   "outputs": [],
   "source": [
    "from sklearn.linear_model import LogisticRegression\n",
    "from sklearn.metrics import mean_squared_error, r2_score"
   ]
  },
  {
   "cell_type": "code",
   "execution_count": 7,
   "metadata": {},
   "outputs": [],
   "source": [
    "regr = LogisticRegression(random_state=0, solver='lbfgs',multi_class='multinomial') \n",
    "regr.fit(Train_dic['data'], Train_dic['label_num']) \n",
    "ypred_ML1 = regr.predict(Test_dic['data'])"
   ]
  },
  {
   "cell_type": "code",
   "execution_count": 8,
   "metadata": {},
   "outputs": [
    {
     "name": "stdout",
     "output_type": "stream",
     "text": [
      "Coefficients: \n",
      " [[ 0.00000000e+00 -8.50044761e-06  0.00000000e+00 ...  0.00000000e+00\n",
      "   0.00000000e+00  0.00000000e+00]\n",
      " [ 0.00000000e+00 -1.20998797e-05  0.00000000e+00 ...  0.00000000e+00\n",
      "   0.00000000e+00  0.00000000e+00]\n",
      " [ 0.00000000e+00  2.18255019e-05  0.00000000e+00 ...  0.00000000e+00\n",
      "   0.00000000e+00  0.00000000e+00]\n",
      " [ 0.00000000e+00 -1.22517462e-06  0.00000000e+00 ...  0.00000000e+00\n",
      "   0.00000000e+00  0.00000000e+00]]\n",
      "Mean squared error: 1.15\n",
      "Variance score: 0.05\n"
     ]
    }
   ],
   "source": [
    "# The coefficients\n",
    "print('Coefficients: \\n', regr.coef_)\n",
    "# The mean squared error\n",
    "print(\"Mean squared error: %.2f\"\n",
    "      % mean_squared_error(Test_dic['label_num'], ypred_ML1))\n",
    "# Explained variance score: \n",
    "print('Variance score: %.2f' % r2_score(Test_dic['label_num'], ypred_ML1))\n",
    "\n"
   ]
  },
  {
   "cell_type": "code",
   "execution_count": 9,
   "metadata": {},
   "outputs": [
    {
     "name": "stdout",
     "output_type": "stream",
     "text": [
      "             precision    recall  f1-score   support\n",
      "\n",
      "          0       0.57      0.54      0.55        70\n",
      "          1       0.38      0.41      0.39        71\n",
      "          2       0.59      0.48      0.53        98\n",
      "          3       0.48      0.59      0.53        64\n",
      "\n",
      "avg / total       0.51      0.50      0.50       303\n",
      "\n"
     ]
    }
   ],
   "source": [
    "print(metrics.classification_report(ypred_ML1, Test_dic['label_num']))"
   ]
  },
  {
   "cell_type": "code",
   "execution_count": 10,
   "metadata": {},
   "outputs": [
    {
     "name": "stdout",
     "output_type": "stream",
     "text": [
      "0.5016501650165016\n"
     ]
    }
   ],
   "source": [
    "# Accuracy Score\n",
    "print(metrics.accuracy_score(ypred_ML1, Test_dic['label_num']))"
   ]
  },
  {
   "cell_type": "code",
   "execution_count": 11,
   "metadata": {},
   "outputs": [
    {
     "data": {
      "text/plain": [
       "Text(84.4,0.5,'Prédite')"
      ]
     },
     "execution_count": 11,
     "metadata": {},
     "output_type": "execute_result"
    },
    {
     "data": {
      "image/png": "[encoded data removed]",
      "text/plain": [
       "<Figure size 432x288 with 2 Axes>"
      ]
     },
     "metadata": {},
     "output_type": "display_data"
    }
   ],
   "source": [
    "# Matrice de confusion \n",
    "\n",
    "mat = confusion_matrix(Test_dic['label_num'], ypred_ML1)\n",
    "sns.heatmap(mat.T, cmap=\"Blues\", square=True, annot=True)\n",
    "\n",
    "plt.title('Matrice de confusion - Logistic Regression', y=1.05, size=15)\n",
    "\n",
    "tick_marks = np.arange(num_classes)\n",
    "plt.xticks(tick_marks, [num_to_label[i] for i in range(num_classes)])\n",
    "plt.yticks(tick_marks, [num_to_label[i] for i in range(num_classes)])\n",
    "plt.xlabel('Vraie')\n",
    "plt.ylabel('Prédite')"
   ]
  },
  {
   "cell_type": "markdown",
   "metadata": {},
   "source": [
    "### 2) Arbre de Décision"
   ]
  },
  {
   "cell_type": "code",
   "execution_count": 12,
   "metadata": {},
   "outputs": [],
   "source": [
    "from sklearn import tree\n",
    "from sklearn.tree import DecisionTreeClassifier"
   ]
  },
  {
   "cell_type": "code",
   "execution_count": 13,
   "metadata": {},
   "outputs": [],
   "source": [
    "Decision = DecisionTreeClassifier()\n",
    "Decision.fit(Train_dic['data'], Train_dic['label_num'])\n",
    "ypred_ML2 = Decision.predict(Test_dic['data'])"
   ]
  },
  {
   "cell_type": "code",
   "execution_count": 14,
   "metadata": {},
   "outputs": [
    {
     "name": "stdout",
     "output_type": "stream",
     "text": [
      "             precision    recall  f1-score   support\n",
      "\n",
      "          0       0.46      0.34      0.39        92\n",
      "          1       0.34      0.42      0.37        62\n",
      "          2       0.46      0.46      0.46        81\n",
      "          3       0.39      0.46      0.42        68\n",
      "\n",
      "avg / total       0.42      0.41      0.41       303\n",
      "\n"
     ]
    }
   ],
   "source": [
    "print(metrics.classification_report(ypred_ML2, Test_dic['label_num']))"
   ]
  },
  {
   "cell_type": "code",
   "execution_count": 15,
   "metadata": {},
   "outputs": [
    {
     "name": "stdout",
     "output_type": "stream",
     "text": [
      "0.41254125412541254\n"
     ]
    }
   ],
   "source": [
    "# Accuracy Score\n",
    "print(metrics.accuracy_score(ypred_ML2, Test_dic['label_num']))"
   ]
  },
  {
   "cell_type": "code",
   "execution_count": 16,
   "metadata": {},
   "outputs": [
    {
     "data": {
      "text/plain": [
       "Text(84.4,0.5,'Prédite')"
      ]
     },
     "execution_count": 16,
     "metadata": {},
     "output_type": "execute_result"
    },
    {
     "data": {
      "image/png": "[encoded data removed]",
      "text/plain": [
       "<Figure size 432x288 with 2 Axes>"
      ]
     },
     "metadata": {},
     "output_type": "display_data"
    }
   ],
   "source": [
    "# Matrice de confusion \n",
    "\n",
    "mat = confusion_matrix(Test_dic['label_num'], ypred_ML2)\n",
    "sns.heatmap(mat.T, cmap=\"Blues\", square=True, annot=True)\n",
    "\n",
    "plt.title('Matrice de confusion - Arbre de Décision', y=1.05, size=15)\n",
    "\n",
    "tick_marks = np.arange(num_classes)\n",
    "plt.xticks(tick_marks, [num_to_label[i] for i in range(num_classes)])\n",
    "plt.yticks(tick_marks, [num_to_label[i] for i in range(num_classes)])\n",
    "plt.xlabel('Vraie')\n",
    "plt.ylabel('Prédite')\n"
   ]
  },
  {
   "cell_type": "markdown",
   "metadata": {},
   "source": [
    "### 3) Random Forest "
   ]
  },
  {
   "cell_type": "code",
   "execution_count": 17,
   "metadata": {},
   "outputs": [],
   "source": [
    "from sklearn.ensemble import RandomForestClassifier"
   ]
  },
  {
   "cell_type": "code",
   "execution_count": 18,
   "metadata": {},
   "outputs": [],
   "source": [
    "model = RandomForestClassifier()\n",
    "model.fit(Train_dic['data'],Train_dic['label_num'])\n",
    "ypred_ML3 = model.predict(Test_dic['data'])"
   ]
  },
  {
   "cell_type": "code",
   "execution_count": 19,
   "metadata": {
    "scrolled": true
   },
   "outputs": [
    {
     "name": "stdout",
     "output_type": "stream",
     "text": [
      "             precision    recall  f1-score   support\n",
      "\n",
      "          0       0.64      0.44      0.52        97\n",
      "          1       0.36      0.41      0.39        68\n",
      "          2       0.53      0.51      0.52        82\n",
      "          3       0.34      0.48      0.40        56\n",
      "\n",
      "avg / total       0.49      0.46      0.47       303\n",
      "\n"
     ]
    }
   ],
   "source": [
    "print(metrics.classification_report(ypred_ML3, Test_dic['label_num']))"
   ]
  },
  {
   "cell_type": "code",
   "execution_count": 20,
   "metadata": {},
   "outputs": [
    {
     "name": "stdout",
     "output_type": "stream",
     "text": [
      "0.46204620462046203\n"
     ]
    }
   ],
   "source": [
    "# Accuracy Score\n",
    "print(metrics.accuracy_score(ypred_ML3, Test_dic['label_num']))"
   ]
  },
  {
   "cell_type": "code",
   "execution_count": 21,
   "metadata": {
    "scrolled": true
   },
   "outputs": [
    {
     "data": {
      "text/plain": [
       "Text(84.4,0.5,'Prédite')"
      ]
     },
     "execution_count": 21,
     "metadata": {},
     "output_type": "execute_result"
    },
    {
     "data": {
      "image/png": "[encoded data removed]",
      "text/plain": [
       "<Figure size 432x288 with 2 Axes>"
      ]
     },
     "metadata": {},
     "output_type": "display_data"
    }
   ],
   "source": [
    "# Matrice de confusion \n",
    "\n",
    "mat = confusion_matrix(Test_dic['label_num'], ypred_ML3)\n",
    "sns.heatmap(mat.T, cmap=\"Blues\", square=True, annot=True)\n",
    "\n",
    "plt.title('Matrice de confusion - Random Forest', y=1.05, size=15)\n",
    "\n",
    "tick_marks = np.arange(num_classes)\n",
    "plt.xticks(tick_marks, [num_to_label[i] for i in range(num_classes)])\n",
    "plt.yticks(tick_marks, [num_to_label[i] for i in range(num_classes)])\n",
    "plt.xlabel('Vraie')\n",
    "plt.ylabel('Prédite')"
   ]
  },
  {
   "cell_type": "markdown",
   "metadata": {},
   "source": [
    "### 4) AdaBoostClassifier"
   ]
  },
  {
   "cell_type": "code",
   "execution_count": 22,
   "metadata": {},
   "outputs": [],
   "source": [
    "from sklearn.ensemble import AdaBoostClassifier"
   ]
  },
  {
   "cell_type": "code",
   "execution_count": 23,
   "metadata": {},
   "outputs": [],
   "source": [
    "AdaBoost = AdaBoostClassifier()\n",
    "AdaBoost.fit(Train_dic['data'], Train_dic['label_num']) \n",
    "ypred_ML4 = AdaBoost.predict(Test_dic['data'])\n"
   ]
  },
  {
   "cell_type": "code",
   "execution_count": 24,
   "metadata": {},
   "outputs": [
    {
     "name": "stdout",
     "output_type": "stream",
     "text": [
      "             precision    recall  f1-score   support\n",
      "\n",
      "          0       0.49      0.52      0.50        64\n",
      "          1       0.38      0.44      0.41        66\n",
      "          2       0.50      0.39      0.44       103\n",
      "          3       0.49      0.56      0.52        70\n",
      "\n",
      "avg / total       0.47      0.47      0.46       303\n",
      "\n"
     ]
    }
   ],
   "source": [
    "print(metrics.classification_report(ypred_ML4, Test_dic['label_num']))"
   ]
  },
  {
   "cell_type": "code",
   "execution_count": 25,
   "metadata": {},
   "outputs": [
    {
     "name": "stdout",
     "output_type": "stream",
     "text": [
      "0.46534653465346537\n"
     ]
    }
   ],
   "source": [
    "# Accuracy Score\n",
    "print(metrics.accuracy_score(ypred_ML4, Test_dic['label_num']))"
   ]
  },
  {
   "cell_type": "code",
   "execution_count": 26,
   "metadata": {},
   "outputs": [
    {
     "data": {
      "text/plain": [
       "Text(84.4,0.5,'Prédite')"
      ]
     },
     "execution_count": 26,
     "metadata": {},
     "output_type": "execute_result"
    },
    {
     "data": {
      "image/png": "[encoded data removed]",
      "text/plain": [
       "<Figure size 432x288 with 2 Axes>"
      ]
     },
     "metadata": {},
     "output_type": "display_data"
    }
   ],
   "source": [
    "# Matrice de confusion \n",
    "\n",
    "mat = confusion_matrix(Test_dic['label_num'], ypred_ML4)\n",
    "sns.heatmap(mat.T, cmap=\"Blues\", square=True, annot=True)\n",
    "\n",
    "plt.title('Matrice de confusion - AdaBoost', y=1.05, size=15)\n",
    "\n",
    "tick_marks = np.arange(num_classes)\n",
    "plt.xticks(tick_marks, [num_to_label[i] for i in range(num_classes)])\n",
    "plt.yticks(tick_marks, [num_to_label[i] for i in range(num_classes)])\n",
    "plt.xlabel('Vraie')\n",
    "plt.ylabel('Prédite')"
   ]
  },
  {
   "cell_type": "markdown",
   "metadata": {},
   "source": [
    "### 5) One vs. all "
   ]
  },
  {
   "cell_type": "code",
   "execution_count": 27,
   "metadata": {},
   "outputs": [],
   "source": [
    "from sklearn.multiclass import OneVsRestClassifier\n",
    "from sklearn.svm import LinearSVC"
   ]
  },
  {
   "cell_type": "code",
   "execution_count": 28,
   "metadata": {},
   "outputs": [],
   "source": [
    "OVR= OneVsRestClassifier(LinearSVC(random_state=0))\n",
    "OVR.fit(Train_dic['data'], Train_dic['label_num']) \n",
    "ypred_ML5 = OVR.predict(Test_dic['data'])"
   ]
  },
  {
   "cell_type": "code",
   "execution_count": 29,
   "metadata": {},
   "outputs": [
    {
     "name": "stdout",
     "output_type": "stream",
     "text": [
      "             precision    recall  f1-score   support\n",
      "\n",
      "          0       0.61      0.48      0.54        85\n",
      "          1       0.29      0.40      0.33        55\n",
      "          2       0.59      0.47      0.52       100\n",
      "          3       0.44      0.56      0.49        63\n",
      "\n",
      "avg / total       0.51      0.48      0.49       303\n",
      "\n"
     ]
    }
   ],
   "source": [
    "print(metrics.classification_report(ypred_ML5, Test_dic['label_num']))"
   ]
  },
  {
   "cell_type": "code",
   "execution_count": 30,
   "metadata": {},
   "outputs": [
    {
     "name": "stdout",
     "output_type": "stream",
     "text": [
      "0.47854785478547857\n"
     ]
    }
   ],
   "source": [
    "# Accuracy Score\n",
    "print(metrics.accuracy_score(ypred_ML5, Test_dic['label_num']))"
   ]
  },
  {
   "cell_type": "code",
   "execution_count": 31,
   "metadata": {
    "scrolled": true
   },
   "outputs": [
    {
     "data": {
      "text/plain": [
       "Text(84.4,0.5,'Prédite')"
      ]
     },
     "execution_count": 31,
     "metadata": {},
     "output_type": "execute_result"
    },
    {
     "data": {
      "image/png": "[encoded data removed]",
      "text/plain": [
       "<Figure size 432x288 with 2 Axes>"
      ]
     },
     "metadata": {},
     "output_type": "display_data"
    }
   ],
   "source": [
    "# Matrice de confusion \n",
    "\n",
    "mat = confusion_matrix(Test_dic['label_num'], ypred_ML5)\n",
    "sns.heatmap(mat.T, cmap=\"Blues\", square=True, annot=True)\n",
    "\n",
    "plt.title('Matrice de confusion - One vs. All', y=1.05, size=15)\n",
    "\n",
    "tick_marks = np.arange(num_classes)\n",
    "plt.xticks(tick_marks, [num_to_label[i] for i in range(num_classes)])\n",
    "plt.yticks(tick_marks, [num_to_label[i] for i in range(num_classes)])\n",
    "plt.xlabel('Vraie')\n",
    "plt.ylabel('Prédite')"
   ]
  }
 ],
 "metadata": {
  "kernelspec": {
   "display_name": "Python 3",
   "language": "python",
   "name": "python3"
  },
  "language_info": {
   "codemirror_mode": {
    "name": "ipython",
    "version": 3
   },
   "file_extension": ".py",
   "mimetype": "text/x-python",
   "name": "python",
   "nbconvert_exporter": "python",
   "pygments_lexer": "ipython3",
   "version": "3.6.5"
  },
  "varInspector": {
   "cols": {
    "lenName": 16,
    "lenType": 16,
    "lenVar": 40
   },
   "kernels_config": {
    "python": {
     "delete_cmd_postfix": "",
     "delete_cmd_prefix": "del ",
     "library": "var_list.py",
     "varRefreshCmd": "print(var_dic_list())"
    },
    "r": {
     "delete_cmd_postfix": ") ",
     "delete_cmd_prefix": "rm(",
     "library": "var_list.r",
     "varRefreshCmd": "cat(var_dic_list()) "
    }
   },
   "types_to_exclude": [
    "module",
    "function",
    "builtin_function_or_method",
    "instance",
    "_Feature"
   ],
   "window_display": false
  }
 },
 "nbformat": 4,
 "nbformat_minor": 2
}
