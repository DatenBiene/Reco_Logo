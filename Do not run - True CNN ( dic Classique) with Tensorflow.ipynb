{
 "cells": [
  {
   "cell_type": "markdown",
   "metadata": {},
   "source": [
    "# Classique avec 6 data aug ( pivoter de 5, 10 et 15 degrés à droite et à gauche) : 85.5% d'accuracy sur test set"
   ]
  },
  {
   "cell_type": "markdown",
   "metadata": {},
   "source": [
    "# On importe nos données comme d'habitude "
   ]
  },
  {
   "cell_type": "code",
   "execution_count": 1,
   "metadata": {},
   "outputs": [
    {
     "name": "stdout",
     "output_type": "stream",
     "text": [
      "Wall time: 1min\n"
     ]
    }
   ],
   "source": [
    "%%time\n",
    "\n",
    "num_aug=7\n",
    "\n",
    "\n",
    "import warnings\n",
    "warnings.filterwarnings('ignore')\n",
    "\n",
    "import numpy as np\n",
    "import cv2\n",
    "from PIL import Image\n",
    "\n",
    "%matplotlib inline\n",
    "import matplotlib.pyplot as plt\n",
    "\n",
    "from glob import glob\n",
    "import os\n",
    "\n",
    "\n",
    "imPath = \"Database/All_pictures/\"\n",
    "ls_path = glob(os.path.join(imPath, '*' ))\n",
    "\n",
    "images_base_vide=[]\n",
    "label_nom_vide=[]\n",
    "\n",
    "for file in ls_path: \n",
    "    im = np.array(Image.open(file))[:,:,3]   \n",
    "    images_base_vide+=[im]\n",
    "    label_nom_vide+=[file.split('\\\\')[1].split('_')[0]]   \n",
    "images_base_raw=np.array(images_base_vide)\n",
    "label_nom_raw=np.array(label_nom_vide)\n",
    "\n",
    "def print_exemple_image(num_image,X=images_base_raw,y=label_nom_vide) :\n",
    "    plt.imshow(X[num_image],cmap='Greys')\n",
    "    plt.suptitle(\"Image n°\"+str(num_image)+\" : \"+str(y[num_image]), fontsize=20)\n",
    "    \n",
    "from sklearn.model_selection import train_test_split\n",
    "\n",
    "ramdom_seed_fixée=5\n",
    "\n",
    "def get_split_classique() :\n",
    "    return train_test_split(images_base_raw, label_nom_raw, test_size=0.20, random_state=ramdom_seed_fixée)\n",
    "\n",
    "X_train_classique , X_test_classique , Y_train_classique , Y_test_classique = get_split_classique()\n",
    "\n",
    "label_to_OneHot = {'Deezer':[1,0,0,0],'Messenger':[0,1,0,0],'Facebook':[0,0,1,0],'Tinder':[0,0,0,1]}\n",
    "label_to_num = {'Deezer':0 ,'Messenger':1 ,'Facebook':2,'Tinder':3} \n",
    "num_to_label={0:'Deezer',1:'Messenger' ,2:'Facebook',3:'Tinder'}\n",
    "\n",
    "def transformation_dictionnaire_image(X,Y,data_aug=1,num_pixel_cote=64) : \n",
    "    taille = X.shape[0]\n",
    "    data_base={'image':[], 'data': [], 'label_num' : [],'label_OneHot' : [],'nom_label' :[]}\n",
    "    for i in range(taille) : \n",
    "        im = cv2.resize(X[i], (num_pixel_cote,num_pixel_cote))\n",
    "        name=Y[i]\n",
    "        \n",
    "        for k in range(data_aug):\n",
    "            deg_rot=(k%2)*(((k+1)//2))*5+(1-k%2)*(((k+1)//2)*(-5))\n",
    "            num_rows, num_cols = im.shape[:2]\n",
    "            rotation_matrix = cv2.getRotationMatrix2D((num_cols/2, num_rows/2), deg_rot, 1)\n",
    "            im_rotation = cv2.warpAffine(im, rotation_matrix, (num_cols, num_rows))\n",
    "        \n",
    "            \n",
    "            data_base['image']+=[im_rotation]\n",
    "            data_base['data']+=[np.ndarray.flatten(im_rotation)]\n",
    "            data_base['label_num']+=[label_to_num[name]]\n",
    "            data_base['label_OneHot']+=[label_to_OneHot[name]]\n",
    "            data_base['nom_label']+=[name]\n",
    "            \n",
    "            \n",
    "    data_base['image']=np.array( data_base['image'])\n",
    "    data_base['data']=np.array(data_base['data'])\n",
    "    data_base['label_num']=np.array(data_base['label_num'])\n",
    "    data_base['label_OneHot']=np.array(data_base['label_OneHot'])\n",
    "    data_base['nom_label']=np.array(data_base['nom_label'])\n",
    "    \n",
    "    return data_base\n",
    "        \n",
    "Train_Classique = transformation_dictionnaire_image(X_train_classique,Y_train_classique,data_aug=num_aug)\n",
    "Test_Classique = transformation_dictionnaire_image(X_test_classique,Y_test_classique)\n",
    "\n",
    "catégories= ['Deezer','Facebook','Messenger','Tinder']\n",
    "\n",
    "X_train_progressif , X_test_progressif , Y_train_progressif , Y_test_progressif = [],[],[],[]\n",
    "\n",
    "for cat in catégories : \n",
    "    imPath = \"Database/\"+cat+\"/\"\n",
    "    ls_path = glob(os.path.join(imPath, '*' ))\n",
    "\n",
    "    taille_train=len(ls_path)-len(ls_path)//5\n",
    "    #Train\n",
    "    for file in ls_path[:taille_train]: \n",
    "        im = np.array(Image.open(file))[:,:,3]   \n",
    "        X_train_progressif+=[im]\n",
    "        Y_train_progressif+=[file.split('\\\\')[1].split('_')[0]]\n",
    "\n",
    "    #Test\n",
    "    for file in ls_path[taille_train:]: \n",
    "        im = np.array(Image.open(file))[:,:,3]   \n",
    "        X_test_progressif+=[im]\n",
    "        Y_test_progressif+=[file.split('\\\\')[1].split('_')[0]]\n",
    "    \n",
    "\n",
    "X_train_progressif=np.array(X_train_progressif)\n",
    "Y_train_progressif=np.array(Y_train_progressif)\n",
    "X_test_progressif=np.array(X_test_progressif)\n",
    "Y_test_progressif=np.array(Y_test_progressif)\n",
    "\n",
    "\n",
    "Train_Progressif = transformation_dictionnaire_image(X_train_progressif,Y_train_progressif,data_aug=num_aug)\n",
    "Test_Progressif = transformation_dictionnaire_image(X_test_progressif,Y_test_progressif)"
   ]
  },
  {
   "cell_type": "code",
   "execution_count": 2,
   "metadata": {
    "collapsed": true
   },
   "outputs": [],
   "source": [
    "import tensorflow as tf\n",
    "from sklearn.metrics import confusion_matrix\n",
    "import time\n",
    "from datetime import timedelta\n",
    "import math\n",
    "import random"
   ]
  },
  {
   "cell_type": "code",
   "execution_count": 3,
   "metadata": {
    "collapsed": true
   },
   "outputs": [],
   "source": [
    "# Premier convolutional Layer.\n",
    "filter_size1 = 5          # Filtre de 5 x 5 pixels.\n",
    "num_filters1 = 16         # Il y a ici 16 filtres.\n",
    "\n",
    "# Deuxième convolutional Layer\n",
    "filter_size2 = 5          # Filtre de 5 x 5 pixels.\n",
    "num_filters2 = 36         # Il y a ici 36 filtres .\n",
    "\n",
    "# Couche fully connected \n",
    "fc_size = 128             # Nombre de neuronnes dans la dernière couche "
   ]
  },
  {
   "cell_type": "code",
   "execution_count": 4,
   "metadata": {
    "collapsed": true
   },
   "outputs": [],
   "source": [
    "Train_dic=Train_Classique\n",
    "Test_dic=Test_Classique"
   ]
  },
  {
   "cell_type": "code",
   "execution_count": 5,
   "metadata": {},
   "outputs": [
    {
     "name": "stdout",
     "output_type": "stream",
     "text": [
      "Taille du:\n",
      "- Training set:\t\t8456\n",
      "- Test set:\t\t303\n"
     ]
    }
   ],
   "source": [
    "print(\"Taille du:\")\n",
    "print(\"- Training set:\\t\\t{}\".format(Train_dic['image'].shape[0]))\n",
    "print(\"- Test set:\\t\\t{}\".format(Test_dic['image'].shape[0]))"
   ]
  },
  {
   "cell_type": "code",
   "execution_count": 6,
   "metadata": {
    "collapsed": true
   },
   "outputs": [],
   "source": [
    "# Nombre pixel coté\n",
    "img_size = Train_dic['image'].shape[1]\n",
    "\n",
    "# Nombre de pixel au total\n",
    "img_size_flat = Train_dic['data'].shape[1]\n",
    "\n",
    "# Nombre de pixel longeur et largeur \n",
    "img_shape = Train_dic['image'].shape[1:]\n",
    "\n",
    "# Nombre de classes (si on ajoute de nouveaux logos)\n",
    "num_classes = 4 \n",
    "\n",
    "# Noir et blanc ? 1 si oui \n",
    "num_channels = 1"
   ]
  },
  {
   "cell_type": "code",
   "execution_count": 7,
   "metadata": {
    "collapsed": true
   },
   "outputs": [],
   "source": [
    "def plot_images(images, cls_vrai, cls_pred=None):\n",
    "    assert len(images) == len(cls_vrai) == 9\n",
    "    \n",
    "    fig, axes = plt.subplots(3, 3,  figsize=(10,5))\n",
    "    fig.subplots_adjust(hspace=0.3, wspace=0.1)\n",
    "\n",
    "    for i, ax in enumerate(axes.flat):\n",
    "\n",
    "        ax.imshow(images[i].reshape(img_shape), cmap='binary')\n",
    "\n",
    "        if cls_pred is None:\n",
    "            xlabel = \"Vrai: {0}\".format(cls_vrai[i])\n",
    "        else:\n",
    "            xlabel = \"Vrai: {0}, Pred: {1}\".format(cls_vrai[i], cls_pred[i])\n",
    "\n",
    "        ax.set_xlabel(xlabel)\n",
    "        ax.set_xticks([])\n",
    "        ax.set_yticks([])\n",
    "        \n",
    "\n",
    "    plt.show()"
   ]
  },
  {
   "cell_type": "code",
   "execution_count": 8,
   "metadata": {},
   "outputs": [
    {
     "data": {
      "image/png": "[encoded data removed]",
      "text/plain": [
       "<matplotlib.figure.Figure at 0x1cdd84f14e0>"
      ]
     },
     "metadata": {},
     "output_type": "display_data"
    }
   ],
   "source": [
    "images = Train_dic['image'][0:9]\n",
    "cls_vrai = [num_to_label[i] for i in Train_dic['label_num'][0:9]]\n",
    "\n",
    "\n",
    "plot_images(images=images, cls_vrai=cls_vrai)"
   ]
  },
  {
   "cell_type": "code",
   "execution_count": 9,
   "metadata": {
    "collapsed": true
   },
   "outputs": [],
   "source": [
    "def crea_poids(shape):\n",
    "    return tf.Variable(tf.truncated_normal(shape, stddev=0.05))\n",
    "\n",
    "def nouveau_biais(length):\n",
    "    return tf.Variable(tf.constant(0.05, shape=[length]))"
   ]
  },
  {
   "cell_type": "code",
   "execution_count": 10,
   "metadata": {
    "collapsed": true
   },
   "outputs": [],
   "source": [
    "def new_conv_layer(input,\n",
    "                   num_input_channels,\n",
    "                   filter_size,\n",
    "                   num_filters,\n",
    "                   use_pooling=True):\n",
    "\n",
    "    shape = [filter_size, filter_size, num_input_channels, num_filters]\n",
    "\n",
    "    weights = crea_poids(shape=shape)\n",
    "\n",
    "    biases = nouveau_biais(length=num_filters)\n",
    "\n",
    "    layer = tf.nn.conv2d(input=input,\n",
    "                         filter=weights,\n",
    "                         strides=[1, 1, 1, 1],\n",
    "                         padding='SAME')\n",
    "\n",
    "    layer += biases\n",
    "\n",
    "    if use_pooling:\n",
    "\n",
    "        layer = tf.nn.max_pool(value=layer,\n",
    "                               ksize=[1, 2, 2, 1],\n",
    "                               strides=[1, 2, 2, 1],\n",
    "                               padding='SAME')\n",
    "\n",
    "    layer = tf.nn.relu(layer)\n",
    "\n",
    "    return layer, weights"
   ]
  },
  {
   "cell_type": "code",
   "execution_count": 11,
   "metadata": {
    "collapsed": true
   },
   "outputs": [],
   "source": [
    "def flatten_layer(layer):\n",
    "\n",
    "    layer_shape = layer.get_shape()\n",
    "    num_features = layer_shape[1:4].num_elements()\n",
    "    layer_flat = tf.reshape(layer, [-1, num_features])\n",
    "\n",
    "    return layer_flat, num_features"
   ]
  },
  {
   "cell_type": "code",
   "execution_count": 12,
   "metadata": {
    "collapsed": true
   },
   "outputs": [],
   "source": [
    "def new_fc_layer(input,          \n",
    "                 num_inputs,     \n",
    "                 num_outputs,    \n",
    "                 use_relu=True): \n",
    "\n",
    "  \n",
    "    weights = crea_poids(shape=[num_inputs, num_outputs])\n",
    "    biases = nouveau_biais(length=num_outputs)\n",
    "    layer = tf.matmul(input, weights) + biases\n",
    "    \n",
    "    if use_relu:\n",
    "        layer = tf.nn.relu(layer)\n",
    "\n",
    "    return layer"
   ]
  },
  {
   "cell_type": "code",
   "execution_count": 13,
   "metadata": {
    "collapsed": true
   },
   "outputs": [],
   "source": [
    "x = tf.placeholder(tf.float32, shape=[None, img_size_flat], name='x')"
   ]
  },
  {
   "cell_type": "code",
   "execution_count": 14,
   "metadata": {
    "collapsed": true
   },
   "outputs": [],
   "source": [
    "x_image = tf.reshape(x, [-1, img_size, img_size, num_channels])"
   ]
  },
  {
   "cell_type": "code",
   "execution_count": 15,
   "metadata": {
    "collapsed": true
   },
   "outputs": [],
   "source": [
    "y_true = tf.placeholder(tf.float32, shape=[None, num_classes], name='y_true')"
   ]
  },
  {
   "cell_type": "code",
   "execution_count": 16,
   "metadata": {
    "collapsed": true
   },
   "outputs": [],
   "source": [
    "y_true_cls = tf.argmax(y_true, axis=1)"
   ]
  },
  {
   "cell_type": "code",
   "execution_count": 17,
   "metadata": {
    "collapsed": true
   },
   "outputs": [],
   "source": [
    "layer_conv1, weights_conv1 = \\\n",
    "    new_conv_layer(input=x_image,\n",
    "                   num_input_channels=num_channels,\n",
    "                   filter_size=filter_size1,\n",
    "                   num_filters=num_filters1,\n",
    "                   use_pooling=True)"
   ]
  },
  {
   "cell_type": "code",
   "execution_count": 18,
   "metadata": {},
   "outputs": [
    {
     "data": {
      "text/plain": [
       "<tf.Tensor 'Relu:0' shape=(?, 32, 32, 16) dtype=float32>"
      ]
     },
     "execution_count": 18,
     "metadata": {},
     "output_type": "execute_result"
    }
   ],
   "source": [
    "layer_conv1"
   ]
  },
  {
   "cell_type": "code",
   "execution_count": 19,
   "metadata": {
    "collapsed": true
   },
   "outputs": [],
   "source": [
    "layer_conv2, weights_conv2 = \\\n",
    "    new_conv_layer(input=layer_conv1,\n",
    "                   num_input_channels=num_filters1,\n",
    "                   filter_size=filter_size2,\n",
    "                   num_filters=num_filters2,\n",
    "                   use_pooling=True)"
   ]
  },
  {
   "cell_type": "code",
   "execution_count": 20,
   "metadata": {},
   "outputs": [
    {
     "data": {
      "text/plain": [
       "<tf.Tensor 'Relu_1:0' shape=(?, 16, 16, 36) dtype=float32>"
      ]
     },
     "execution_count": 20,
     "metadata": {},
     "output_type": "execute_result"
    }
   ],
   "source": [
    "layer_conv2"
   ]
  },
  {
   "cell_type": "code",
   "execution_count": 21,
   "metadata": {
    "collapsed": true
   },
   "outputs": [],
   "source": [
    "layer_flat, num_features = flatten_layer(layer_conv2)"
   ]
  },
  {
   "cell_type": "code",
   "execution_count": 22,
   "metadata": {},
   "outputs": [
    {
     "data": {
      "text/plain": [
       "<tf.Tensor 'Reshape_1:0' shape=(?, 9216) dtype=float32>"
      ]
     },
     "execution_count": 22,
     "metadata": {},
     "output_type": "execute_result"
    }
   ],
   "source": [
    "layer_flat"
   ]
  },
  {
   "cell_type": "code",
   "execution_count": 23,
   "metadata": {
    "collapsed": true
   },
   "outputs": [],
   "source": [
    "layer_fc1 = new_fc_layer(input=layer_flat,\n",
    "                         num_inputs=num_features,\n",
    "                         num_outputs=fc_size,\n",
    "                         use_relu=True)"
   ]
  },
  {
   "cell_type": "code",
   "execution_count": 24,
   "metadata": {},
   "outputs": [
    {
     "data": {
      "text/plain": [
       "<tf.Tensor 'Relu_2:0' shape=(?, 128) dtype=float32>"
      ]
     },
     "execution_count": 24,
     "metadata": {},
     "output_type": "execute_result"
    }
   ],
   "source": [
    "layer_fc1"
   ]
  },
  {
   "cell_type": "code",
   "execution_count": 25,
   "metadata": {
    "collapsed": true
   },
   "outputs": [],
   "source": [
    "layer_fc2 = new_fc_layer(input=layer_fc1,\n",
    "                         num_inputs=fc_size,\n",
    "                         num_outputs=num_classes,\n",
    "                         use_relu=False)"
   ]
  },
  {
   "cell_type": "code",
   "execution_count": 26,
   "metadata": {
    "collapsed": true
   },
   "outputs": [],
   "source": [
    "y_pred = tf.nn.softmax(layer_fc2)"
   ]
  },
  {
   "cell_type": "code",
   "execution_count": 27,
   "metadata": {
    "collapsed": true
   },
   "outputs": [],
   "source": [
    "y_pred_cls = tf.argmax(y_pred, axis=1)"
   ]
  },
  {
   "cell_type": "code",
   "execution_count": 28,
   "metadata": {},
   "outputs": [
    {
     "name": "stdout",
     "output_type": "stream",
     "text": [
      "WARNING:tensorflow:From <ipython-input-28-c6320b202c3b>:2: softmax_cross_entropy_with_logits (from tensorflow.python.ops.nn_ops) is deprecated and will be removed in a future version.\n",
      "Instructions for updating:\n",
      "\n",
      "Future major versions of TensorFlow will allow gradients to flow\n",
      "into the labels input on backprop by default.\n",
      "\n",
      "See `tf.nn.softmax_cross_entropy_with_logits_v2`.\n",
      "\n"
     ]
    }
   ],
   "source": [
    "cross_entropy = tf.nn.softmax_cross_entropy_with_logits(logits=layer_fc2,\n",
    "                                                        labels=y_true)"
   ]
  },
  {
   "cell_type": "code",
   "execution_count": 29,
   "metadata": {
    "collapsed": true
   },
   "outputs": [],
   "source": [
    "cost = tf.reduce_mean(cross_entropy)"
   ]
  },
  {
   "cell_type": "code",
   "execution_count": 30,
   "metadata": {
    "collapsed": true
   },
   "outputs": [],
   "source": [
    "optimizer = tf.train.AdamOptimizer(learning_rate=1e-4).minimize(cost)"
   ]
  },
  {
   "cell_type": "code",
   "execution_count": 31,
   "metadata": {
    "collapsed": true
   },
   "outputs": [],
   "source": [
    "correct_prediction = tf.equal(y_pred_cls, y_true_cls)"
   ]
  },
  {
   "cell_type": "code",
   "execution_count": 32,
   "metadata": {
    "collapsed": true
   },
   "outputs": [],
   "source": [
    "accuracy = tf.reduce_mean(tf.cast(correct_prediction, tf.float32))"
   ]
  },
  {
   "cell_type": "code",
   "execution_count": 33,
   "metadata": {
    "collapsed": true
   },
   "outputs": [],
   "source": [
    "session = tf.Session()"
   ]
  },
  {
   "cell_type": "code",
   "execution_count": 34,
   "metadata": {
    "collapsed": true
   },
   "outputs": [],
   "source": [
    "session.run(tf.global_variables_initializer())"
   ]
  },
  {
   "cell_type": "code",
   "execution_count": 35,
   "metadata": {
    "collapsed": true
   },
   "outputs": [],
   "source": [
    "train_batch_size = 64"
   ]
  },
  {
   "cell_type": "code",
   "execution_count": 36,
   "metadata": {
    "collapsed": true
   },
   "outputs": [],
   "source": [
    "def get_random_batch(X,y,batch_size) :\n",
    "    index=random.sample(range(1,y.shape[0]), batch_size)\n",
    "    return X[index], y[index]"
   ]
  },
  {
   "cell_type": "code",
   "execution_count": 37,
   "metadata": {
    "collapsed": true
   },
   "outputs": [],
   "source": [
    "total_iterations = 0\n",
    "batch_size=100\n",
    "\n",
    "def optimize(num_iterations):\n",
    "    \n",
    "    global total_iterations\n",
    "    start_time = time.time()\n",
    "\n",
    "    for i in range(total_iterations,\n",
    "                   total_iterations + num_iterations):\n",
    "\n",
    "        x_batch, y_true_batch = get_random_batch(Train_dic['data'],Train_dic['label_OneHot'],batch_size)\n",
    "\n",
    "\n",
    "        feed_dict_train = {x: x_batch,\n",
    "                           y_true: y_true_batch}\n",
    "\n",
    "        session.run(optimizer, feed_dict=feed_dict_train)\n",
    "\n",
    "        if i % 100 == 0:\n",
    "\n",
    "            acc = session.run(accuracy, feed_dict=feed_dict_train)\n",
    "            msg = \"Optimization Iteration: {0:>6}, Training Accuracy: {1:>6.1%}\"\n",
    "            print(msg.format(i + 1, acc))\n",
    "\n",
    "    total_iterations += num_iterations\n",
    "    end_time = time.time()\n",
    "    time_dif = end_time - start_time\n",
    "\n",
    "    print(\"Time usage: \" + str(timedelta(seconds=int(round(time_dif)))))"
   ]
  },
  {
   "cell_type": "code",
   "execution_count": 38,
   "metadata": {
    "collapsed": true
   },
   "outputs": [],
   "source": [
    "def plot_example_errors():\n",
    "    correct, cls_pred = session.run([correct_prediction, y_pred_cls],\n",
    "                                    feed_dict=feed_dict_test)\n",
    "\n",
    "    incorrect = (correct == False)\n",
    "    images = Test_dic['data'][incorrect]\n",
    "    cls_pred = cls_pred[incorrect]\n",
    "    cls_vrai = Test_dic['label_num'][incorrect]\n",
    "    plot_images(images=images[0:9],\n",
    "                cls_vrai=[num_to_label[i] for i in cls_vrai[0:9]],\n",
    "                cls_pred=[num_to_label[i] for i in cls_pred[0:9]])"
   ]
  },
  {
   "cell_type": "code",
   "execution_count": 39,
   "metadata": {
    "collapsed": true
   },
   "outputs": [],
   "source": [
    "def print_confusion_matrix():\n",
    "    cls_vrai = Test_dic['label_num']\n",
    "    cls_pred = session.run(y_pred_cls, feed_dict=feed_dict_test)\n",
    "    cm = confusion_matrix(y_true=cls_vrai, y_pred=cls_pred)\n",
    "\n",
    "    print(cm)\n",
    "\n",
    "    plt.imshow(cm, interpolation='nearest', cmap=plt.cm.Blues)\n",
    "    plt.tight_layout()\n",
    "    plt.colorbar()\n",
    "    tick_marks = np.arange(num_classes)\n",
    "    plt.xticks(tick_marks, [num_to_label[i] for i in range(num_classes)])\n",
    "    plt.yticks(tick_marks, [num_to_label[i] for i in range(num_classes)])\n",
    "    plt.xlabel('Predicted')\n",
    "    plt.ylabel('True')\n",
    "    plt.show()"
   ]
  },
  {
   "cell_type": "code",
   "execution_count": 40,
   "metadata": {
    "collapsed": true
   },
   "outputs": [],
   "source": [
    "feed_dict_test = {x: Test_dic['data'],\n",
    "                  y_true: Test_dic['label_OneHot'],\n",
    "                  y_true_cls: Test_dic['label_num']}"
   ]
  },
  {
   "cell_type": "code",
   "execution_count": 41,
   "metadata": {
    "collapsed": true
   },
   "outputs": [],
   "source": [
    "def print_accuracy():\n",
    "\n",
    "    acc = session.run(accuracy, feed_dict=feed_dict_test)\n",
    "\n",
    "    print(\"Accuracy on test-set: {0:.1%}\".format(acc))"
   ]
  },
  {
   "cell_type": "code",
   "execution_count": 42,
   "metadata": {},
   "outputs": [
    {
     "name": "stdout",
     "output_type": "stream",
     "text": [
      "Accuracy on test-set: 23.8%\n"
     ]
    }
   ],
   "source": [
    "print_accuracy()"
   ]
  },
  {
   "cell_type": "code",
   "execution_count": 43,
   "metadata": {},
   "outputs": [
    {
     "name": "stdout",
     "output_type": "stream",
     "text": [
      "Optimization Iteration:      1, Training Accuracy:  28.0%\n",
      "Time usage: 0:00:02\n"
     ]
    }
   ],
   "source": [
    "optimize(num_iterations=1)"
   ]
  },
  {
   "cell_type": "code",
   "execution_count": 44,
   "metadata": {},
   "outputs": [
    {
     "name": "stdout",
     "output_type": "stream",
     "text": [
      "Accuracy on test-set: 26.7%\n"
     ]
    }
   ],
   "source": [
    "print_accuracy()"
   ]
  },
  {
   "cell_type": "code",
   "execution_count": 45,
   "metadata": {
    "scrolled": false
   },
   "outputs": [
    {
     "name": "stdout",
     "output_type": "stream",
     "text": [
      "Optimization Iteration:    101, Training Accuracy:  71.0%\n",
      "Time usage: 0:01:58\n",
      "Accuracy on test-set: 60.4%\n",
      "Optimization Iteration:    201, Training Accuracy:  84.0%\n",
      "Time usage: 0:01:52\n",
      "Accuracy on test-set: 69.0%\n",
      "Optimization Iteration:    301, Training Accuracy:  95.0%\n",
      "Time usage: 0:01:51\n",
      "Accuracy on test-set: 71.0%\n",
      "Optimization Iteration:    401, Training Accuracy:  96.0%\n",
      "Time usage: 0:01:52\n",
      "Accuracy on test-set: 70.3%\n",
      "Optimization Iteration:    501, Training Accuracy:  95.0%\n",
      "Time usage: 0:01:51\n",
      "Accuracy on test-set: 74.9%\n",
      "Optimization Iteration:    601, Training Accuracy: 100.0%\n",
      "Time usage: 0:01:50\n",
      "Accuracy on test-set: 76.6%\n",
      "Optimization Iteration:    701, Training Accuracy:  99.0%\n",
      "Time usage: 0:01:51\n",
      "Accuracy on test-set: 76.2%\n",
      "Optimization Iteration:    801, Training Accuracy:  99.0%\n",
      "Time usage: 0:01:50\n",
      "Accuracy on test-set: 73.9%\n",
      "Optimization Iteration:    901, Training Accuracy: 100.0%\n",
      "Time usage: 0:01:51\n",
      "Accuracy on test-set: 78.5%\n",
      "Optimization Iteration:   1001, Training Accuracy: 100.0%\n",
      "Time usage: 0:01:51\n",
      "Accuracy on test-set: 78.2%\n"
     ]
    }
   ],
   "source": [
    "for i in range(10): \n",
    "    optimize(num_iterations=100) \n",
    "    print_accuracy()"
   ]
  },
  {
   "cell_type": "code",
   "execution_count": 46,
   "metadata": {},
   "outputs": [
    {
     "name": "stdout",
     "output_type": "stream",
     "text": [
      "Optimization Iteration:   1101, Training Accuracy: 100.0%\n",
      "Time usage: 0:01:51\n",
      "Accuracy on test-set: 77.2%\n",
      "Optimization Iteration:   1201, Training Accuracy:  99.0%\n",
      "Time usage: 0:01:51\n",
      "Accuracy on test-set: 79.2%\n",
      "Optimization Iteration:   1301, Training Accuracy: 100.0%\n",
      "Time usage: 0:01:51\n",
      "Accuracy on test-set: 78.2%\n",
      "Optimization Iteration:   1401, Training Accuracy:  99.0%\n",
      "Time usage: 0:01:51\n",
      "Accuracy on test-set: 78.9%\n",
      "Optimization Iteration:   1501, Training Accuracy: 100.0%\n",
      "Time usage: 0:01:50\n",
      "Accuracy on test-set: 79.5%\n",
      "Optimization Iteration:   1601, Training Accuracy: 100.0%\n",
      "Time usage: 0:01:50\n",
      "Accuracy on test-set: 78.9%\n",
      "Optimization Iteration:   1701, Training Accuracy:  99.0%\n",
      "Time usage: 0:01:50\n",
      "Accuracy on test-set: 80.5%\n",
      "Optimization Iteration:   1801, Training Accuracy:  99.0%\n",
      "Time usage: 0:01:51\n",
      "Accuracy on test-set: 78.5%\n",
      "Optimization Iteration:   1901, Training Accuracy: 100.0%\n",
      "Time usage: 0:01:50\n",
      "Accuracy on test-set: 79.5%\n",
      "Optimization Iteration:   2001, Training Accuracy: 100.0%\n",
      "Time usage: 0:01:50\n",
      "Accuracy on test-set: 80.2%\n"
     ]
    }
   ],
   "source": [
    "for i in range(10): \n",
    "    optimize(num_iterations=100) \n",
    "    print_accuracy()"
   ]
  },
  {
   "cell_type": "code",
   "execution_count": 47,
   "metadata": {},
   "outputs": [
    {
     "name": "stdout",
     "output_type": "stream",
     "text": [
      "Optimization Iteration:   2101, Training Accuracy: 100.0%\n",
      "Time usage: 0:01:55\n",
      "Accuracy on test-set: 81.5%\n",
      "Optimization Iteration:   2201, Training Accuracy: 100.0%\n",
      "Time usage: 0:01:54\n",
      "Accuracy on test-set: 81.5%\n",
      "Optimization Iteration:   2301, Training Accuracy:  98.0%\n",
      "Time usage: 0:01:55\n",
      "Accuracy on test-set: 80.5%\n",
      "Optimization Iteration:   2401, Training Accuracy: 100.0%\n",
      "Time usage: 0:01:55\n",
      "Accuracy on test-set: 79.9%\n",
      "Optimization Iteration:   2501, Training Accuracy: 100.0%\n",
      "Time usage: 0:01:54\n",
      "Accuracy on test-set: 81.2%\n",
      "Optimization Iteration:   2601, Training Accuracy: 100.0%\n",
      "Time usage: 0:01:54\n",
      "Accuracy on test-set: 80.5%\n",
      "Optimization Iteration:   2701, Training Accuracy: 100.0%\n",
      "Time usage: 0:01:55\n",
      "Accuracy on test-set: 79.2%\n",
      "Optimization Iteration:   2801, Training Accuracy: 100.0%\n",
      "Time usage: 0:01:54\n",
      "Accuracy on test-set: 79.9%\n",
      "Optimization Iteration:   2901, Training Accuracy:  99.0%\n",
      "Time usage: 0:01:54\n",
      "Accuracy on test-set: 80.9%\n",
      "Optimization Iteration:   3001, Training Accuracy:  99.0%\n",
      "Time usage: 0:01:55\n",
      "Accuracy on test-set: 81.8%\n"
     ]
    }
   ],
   "source": [
    "for i in range(10): \n",
    "    optimize(num_iterations=100) \n",
    "    print_accuracy()"
   ]
  },
  {
   "cell_type": "code",
   "execution_count": 48,
   "metadata": {},
   "outputs": [
    {
     "name": "stdout",
     "output_type": "stream",
     "text": [
      "Optimization Iteration:   3101, Training Accuracy: 100.0%\n",
      "Time usage: 0:01:55\n",
      "Accuracy on test-set: 82.2%\n",
      "Optimization Iteration:   3201, Training Accuracy: 100.0%\n",
      "Time usage: 0:01:55\n",
      "Accuracy on test-set: 83.2%\n",
      "Optimization Iteration:   3301, Training Accuracy: 100.0%\n",
      "Time usage: 0:01:57\n",
      "Accuracy on test-set: 82.2%\n",
      "Optimization Iteration:   3401, Training Accuracy: 100.0%\n",
      "Time usage: 0:01:55\n",
      "Accuracy on test-set: 82.8%\n",
      "Optimization Iteration:   3501, Training Accuracy:  99.0%\n",
      "Time usage: 0:01:54\n",
      "Accuracy on test-set: 83.5%\n",
      "Optimization Iteration:   3601, Training Accuracy: 100.0%\n",
      "Time usage: 0:02:11\n",
      "Accuracy on test-set: 77.9%\n",
      "Optimization Iteration:   3701, Training Accuracy: 100.0%\n",
      "Time usage: 0:01:54\n",
      "Accuracy on test-set: 80.9%\n",
      "Optimization Iteration:   3801, Training Accuracy:  99.0%\n",
      "Time usage: 0:01:56\n",
      "Accuracy on test-set: 83.5%\n",
      "Optimization Iteration:   3901, Training Accuracy:  99.0%\n",
      "Time usage: 0:01:54\n",
      "Accuracy on test-set: 83.2%\n",
      "Optimization Iteration:   4001, Training Accuracy:  99.0%\n",
      "Time usage: 0:01:54\n",
      "Accuracy on test-set: 83.2%\n"
     ]
    }
   ],
   "source": [
    "for i in range(10): \n",
    "    optimize(num_iterations=100) \n",
    "    print_accuracy()"
   ]
  },
  {
   "cell_type": "code",
   "execution_count": 49,
   "metadata": {},
   "outputs": [
    {
     "name": "stdout",
     "output_type": "stream",
     "text": [
      "Optimization Iteration:   4101, Training Accuracy: 100.0%\n",
      "Time usage: 0:16:51\n",
      "Accuracy on test-set: 83.5%\n",
      "Optimization Iteration:   4201, Training Accuracy: 100.0%\n",
      "Time usage: 0:01:55\n",
      "Accuracy on test-set: 82.5%\n",
      "Optimization Iteration:   4301, Training Accuracy:  97.0%\n",
      "Time usage: 0:01:56\n",
      "Accuracy on test-set: 84.2%\n",
      "Optimization Iteration:   4401, Training Accuracy: 100.0%\n",
      "Time usage: 0:01:55\n",
      "Accuracy on test-set: 83.2%\n",
      "Optimization Iteration:   4501, Training Accuracy:  99.0%\n",
      "Time usage: 0:01:56\n",
      "Accuracy on test-set: 82.8%\n",
      "Optimization Iteration:   4601, Training Accuracy:  99.0%\n",
      "Time usage: 0:21:37\n",
      "Accuracy on test-set: 82.2%\n",
      "Optimization Iteration:   4701, Training Accuracy: 100.0%\n",
      "Time usage: 0:02:09\n",
      "Accuracy on test-set: 81.5%\n",
      "Optimization Iteration:   4801, Training Accuracy: 100.0%\n",
      "Time usage: 0:01:56\n",
      "Accuracy on test-set: 82.2%\n",
      "Optimization Iteration:   4901, Training Accuracy: 100.0%\n",
      "Time usage: 0:01:56\n",
      "Accuracy on test-set: 80.5%\n",
      "Optimization Iteration:   5001, Training Accuracy:  99.0%\n",
      "Time usage: 0:01:55\n",
      "Accuracy on test-set: 82.5%\n"
     ]
    }
   ],
   "source": [
    "for i in range(10): \n",
    "    optimize(num_iterations=100) \n",
    "    print_accuracy()"
   ]
  },
  {
   "cell_type": "code",
   "execution_count": 50,
   "metadata": {},
   "outputs": [
    {
     "name": "stdout",
     "output_type": "stream",
     "text": [
      "[[45  8  6  4]\n",
      " [ 1 70  0  6]\n",
      " [ 5 10 63  3]\n",
      " [ 1  8  1 72]]\n"
     ]
    },
    {
     "data": {
      "image/png": "[encoded data removed]",
      "text/plain": [
       "<matplotlib.figure.Figure at 0x1cddbf768d0>"
      ]
     },
     "metadata": {},
     "output_type": "display_data"
    }
   ],
   "source": [
    "print_confusion_matrix()"
   ]
  },
  {
   "cell_type": "code",
   "execution_count": 51,
   "metadata": {},
   "outputs": [
    {
     "data": {
      "image/png": "[encoded data removed]",
      "text/plain": [
       "<matplotlib.figure.Figure at 0x1cddbeeb828>"
      ]
     },
     "metadata": {},
     "output_type": "display_data"
    }
   ],
   "source": [
    "plot_example_errors()"
   ]
  },
  {
   "cell_type": "code",
   "execution_count": 52,
   "metadata": {},
   "outputs": [
    {
     "name": "stdout",
     "output_type": "stream",
     "text": [
      "Optimization Iteration:   5101, Training Accuracy: 100.0%\n",
      "Time usage: 0:01:55\n",
      "Accuracy on test-set: 82.5%\n",
      "Optimization Iteration:   5201, Training Accuracy: 100.0%\n",
      "Time usage: 0:01:59\n",
      "Accuracy on test-set: 84.2%\n",
      "Optimization Iteration:   5301, Training Accuracy:  98.0%\n",
      "Time usage: 1:25:18\n",
      "Accuracy on test-set: 83.2%\n",
      "Optimization Iteration:   5401, Training Accuracy:  99.0%\n",
      "Time usage: 0:01:56\n",
      "Accuracy on test-set: 83.2%\n",
      "Optimization Iteration:   5501, Training Accuracy: 100.0%\n",
      "Time usage: 0:01:56\n",
      "Accuracy on test-set: 81.5%\n",
      "Optimization Iteration:   5601, Training Accuracy:  99.0%\n",
      "Time usage: 0:01:56\n",
      "Accuracy on test-set: 82.5%\n",
      "Optimization Iteration:   5701, Training Accuracy: 100.0%\n",
      "Time usage: 0:01:56\n",
      "Accuracy on test-set: 82.8%\n",
      "Optimization Iteration:   5801, Training Accuracy:  99.0%\n",
      "Time usage: 0:29:42\n",
      "Accuracy on test-set: 82.5%\n",
      "Optimization Iteration:   5901, Training Accuracy: 100.0%\n",
      "Time usage: 0:01:58\n",
      "Accuracy on test-set: 83.2%\n",
      "Optimization Iteration:   6001, Training Accuracy: 100.0%\n",
      "Time usage: 0:01:56\n",
      "Accuracy on test-set: 82.5%\n"
     ]
    }
   ],
   "source": [
    "for i in range(10): \n",
    "    optimize(num_iterations=100) \n",
    "    print_accuracy()"
   ]
  },
  {
   "cell_type": "code",
   "execution_count": 53,
   "metadata": {},
   "outputs": [
    {
     "name": "stdout",
     "output_type": "stream",
     "text": [
      "Optimization Iteration:   6101, Training Accuracy:  99.0%\n",
      "Time usage: 0:01:55\n",
      "Accuracy on test-set: 84.2%\n",
      "Optimization Iteration:   6201, Training Accuracy: 100.0%\n",
      "Time usage: 0:01:56\n",
      "Accuracy on test-set: 80.9%\n",
      "Optimization Iteration:   6301, Training Accuracy:  99.0%\n",
      "Time usage: 1:33:41\n",
      "Accuracy on test-set: 83.2%\n",
      "Optimization Iteration:   6401, Training Accuracy: 100.0%\n",
      "Time usage: 0:02:20\n",
      "Accuracy on test-set: 85.8%\n",
      "Optimization Iteration:   6501, Training Accuracy: 100.0%\n",
      "Time usage: 0:02:00\n",
      "Accuracy on test-set: 81.5%\n",
      "Optimization Iteration:   6601, Training Accuracy: 100.0%\n",
      "Time usage: 0:01:57\n",
      "Accuracy on test-set: 83.8%\n",
      "Optimization Iteration:   6701, Training Accuracy:  99.0%\n",
      "Time usage: 0:01:57\n",
      "Accuracy on test-set: 84.5%\n",
      "Optimization Iteration:   6801, Training Accuracy: 100.0%\n",
      "Time usage: 0:01:56\n",
      "Accuracy on test-set: 85.5%\n",
      "Optimization Iteration:   6901, Training Accuracy: 100.0%\n",
      "Time usage: 0:03:19\n",
      "Accuracy on test-set: 84.8%\n",
      "Optimization Iteration:   7001, Training Accuracy:  99.0%\n",
      "Time usage: 0:01:54\n",
      "Accuracy on test-set: 84.2%\n"
     ]
    }
   ],
   "source": [
    "for i in range(10): \n",
    "    optimize(num_iterations=100) \n",
    "    print_accuracy()"
   ]
  },
  {
   "cell_type": "code",
   "execution_count": 54,
   "metadata": {},
   "outputs": [
    {
     "name": "stdout",
     "output_type": "stream",
     "text": [
      "Optimization Iteration:   7101, Training Accuracy: 100.0%\n",
      "Time usage: 0:01:55\n",
      "Accuracy on test-set: 84.5%\n",
      "Optimization Iteration:   7201, Training Accuracy: 100.0%\n",
      "Time usage: 0:01:54\n",
      "Accuracy on test-set: 83.5%\n",
      "Optimization Iteration:   7301, Training Accuracy: 100.0%\n",
      "Time usage: 0:01:55\n",
      "Accuracy on test-set: 84.2%\n",
      "Optimization Iteration:   7401, Training Accuracy: 100.0%\n",
      "Time usage: 0:04:15\n",
      "Accuracy on test-set: 84.2%\n",
      "Optimization Iteration:   7501, Training Accuracy: 100.0%\n",
      "Time usage: 0:01:51\n",
      "Accuracy on test-set: 85.1%\n",
      "Optimization Iteration:   7601, Training Accuracy:  99.0%\n",
      "Time usage: 0:01:51\n",
      "Accuracy on test-set: 85.5%\n",
      "Optimization Iteration:   7701, Training Accuracy: 100.0%\n",
      "Time usage: 0:01:51\n",
      "Accuracy on test-set: 84.5%\n",
      "Optimization Iteration:   7801, Training Accuracy: 100.0%\n",
      "Time usage: 0:01:53\n",
      "Accuracy on test-set: 85.1%\n",
      "Optimization Iteration:   7901, Training Accuracy:  99.0%\n",
      "Time usage: 0:03:01\n",
      "Accuracy on test-set: 83.5%\n",
      "Optimization Iteration:   8001, Training Accuracy:  99.0%\n",
      "Time usage: 0:01:52\n",
      "Accuracy on test-set: 85.8%\n"
     ]
    }
   ],
   "source": [
    "for i in range(10): \n",
    "    optimize(num_iterations=100) \n",
    "    print_accuracy()"
   ]
  },
  {
   "cell_type": "code",
   "execution_count": 55,
   "metadata": {},
   "outputs": [
    {
     "name": "stdout",
     "output_type": "stream",
     "text": [
      "Optimization Iteration:   8101, Training Accuracy: 100.0%\n",
      "Time usage: 0:01:51\n",
      "Accuracy on test-set: 85.1%\n",
      "Optimization Iteration:   8201, Training Accuracy:  99.0%\n",
      "Time usage: 0:02:07\n",
      "Accuracy on test-set: 85.5%\n",
      "Optimization Iteration:   8301, Training Accuracy: 100.0%\n",
      "Time usage: 0:02:04\n",
      "Accuracy on test-set: 85.5%\n",
      "Optimization Iteration:   8401, Training Accuracy:  99.0%\n",
      "Time usage: 0:02:02\n",
      "Accuracy on test-set: 85.5%\n",
      "Optimization Iteration:   8501, Training Accuracy: 100.0%\n",
      "Time usage: 0:02:02\n",
      "Accuracy on test-set: 85.1%\n",
      "Optimization Iteration:   8601, Training Accuracy: 100.0%\n",
      "Time usage: 0:02:03\n",
      "Accuracy on test-set: 85.5%\n",
      "Optimization Iteration:   8701, Training Accuracy: 100.0%\n",
      "Time usage: 0:02:03\n",
      "Accuracy on test-set: 84.8%\n",
      "Optimization Iteration:   8801, Training Accuracy: 100.0%\n",
      "Time usage: 0:02:03\n",
      "Accuracy on test-set: 85.5%\n",
      "Optimization Iteration:   8901, Training Accuracy: 100.0%\n",
      "Time usage: 0:02:06\n",
      "Accuracy on test-set: 86.1%\n",
      "Optimization Iteration:   9001, Training Accuracy: 100.0%\n",
      "Time usage: 0:02:11\n",
      "Accuracy on test-set: 85.1%\n"
     ]
    }
   ],
   "source": [
    "for i in range(10): \n",
    "    optimize(num_iterations=100) \n",
    "    print_accuracy()"
   ]
  },
  {
   "cell_type": "code",
   "execution_count": 56,
   "metadata": {},
   "outputs": [
    {
     "name": "stdout",
     "output_type": "stream",
     "text": [
      "Optimization Iteration:   9101, Training Accuracy: 100.0%\n",
      "Time usage: 0:02:09\n",
      "Accuracy on test-set: 85.1%\n",
      "Optimization Iteration:   9201, Training Accuracy:  99.0%\n",
      "Time usage: 0:01:54\n",
      "Accuracy on test-set: 86.5%\n",
      "Optimization Iteration:   9301, Training Accuracy: 100.0%\n",
      "Time usage: 0:01:51\n",
      "Accuracy on test-set: 85.8%\n",
      "Optimization Iteration:   9401, Training Accuracy:  99.0%\n",
      "Time usage: 0:01:53\n",
      "Accuracy on test-set: 85.5%\n",
      "Optimization Iteration:   9501, Training Accuracy:  99.0%\n",
      "Time usage: 0:01:51\n",
      "Accuracy on test-set: 84.8%\n",
      "Optimization Iteration:   9601, Training Accuracy: 100.0%\n",
      "Time usage: 0:01:51\n",
      "Accuracy on test-set: 88.1%\n",
      "Optimization Iteration:   9701, Training Accuracy:  99.0%\n",
      "Time usage: 0:01:53\n",
      "Accuracy on test-set: 85.5%\n",
      "Optimization Iteration:   9801, Training Accuracy:  99.0%\n",
      "Time usage: 0:01:51\n",
      "Accuracy on test-set: 85.8%\n",
      "Optimization Iteration:   9901, Training Accuracy: 100.0%\n",
      "Time usage: 0:01:51\n",
      "Accuracy on test-set: 86.5%\n",
      "Optimization Iteration:  10001, Training Accuracy:  99.0%\n",
      "Time usage: 0:01:51\n",
      "Accuracy on test-set: 87.5%\n"
     ]
    }
   ],
   "source": [
    "for i in range(10): \n",
    "    optimize(num_iterations=100) \n",
    "    print_accuracy()"
   ]
  },
  {
   "cell_type": "code",
   "execution_count": 57,
   "metadata": {},
   "outputs": [
    {
     "name": "stdout",
     "output_type": "stream",
     "text": [
      "[[51  4  3  5]\n",
      " [ 1 71  0  5]\n",
      " [ 6  4 68  3]\n",
      " [ 1  5  1 75]]\n"
     ]
    },
    {
     "data": {
      "image/png": "[encoded data removed]",
      "text/plain": [
       "<matplotlib.figure.Figure at 0x1cddbf76be0>"
      ]
     },
     "metadata": {},
     "output_type": "display_data"
    }
   ],
   "source": [
    "print_confusion_matrix()"
   ]
  },
  {
   "cell_type": "code",
   "execution_count": 58,
   "metadata": {},
   "outputs": [
    {
     "data": {
      "image/png": "[encoded data removed]",
      "text/plain": [
       "<matplotlib.figure.Figure at 0x1cddbfc7780>"
      ]
     },
     "metadata": {},
     "output_type": "display_data"
    }
   ],
   "source": [
    "plot_example_errors()"
   ]
  },
  {
   "cell_type": "code",
   "execution_count": null,
   "metadata": {
    "collapsed": true
   },
   "outputs": [],
   "source": []
  }
 ],
 "metadata": {
  "kernelspec": {
   "display_name": "Python 3",
   "language": "python",
   "name": "python3"
  },
  "language_info": {
   "codemirror_mode": {
    "name": "ipython",
    "version": 3
   },
   "file_extension": ".py",
   "mimetype": "text/x-python",
   "name": "python",
   "nbconvert_exporter": "python",
   "pygments_lexer": "ipython3",
   "version": "3.6.1"
  },
  "varInspector": {
   "cols": {
    "lenName": 16,
    "lenType": 16,
    "lenVar": 40
   },
   "kernels_config": {
    "python": {
     "delete_cmd_postfix": "",
     "delete_cmd_prefix": "del ",
     "library": "var_list.py",
     "varRefreshCmd": "print(var_dic_list())"
    },
    "r": {
     "delete_cmd_postfix": ") ",
     "delete_cmd_prefix": "rm(",
     "library": "var_list.r",
     "varRefreshCmd": "cat(var_dic_list()) "
    }
   },
   "types_to_exclude": [
    "module",
    "function",
    "builtin_function_or_method",
    "instance",
    "_Feature"
   ],
   "window_display": false
  }
 },
 "nbformat": 4,
 "nbformat_minor": 2
}
