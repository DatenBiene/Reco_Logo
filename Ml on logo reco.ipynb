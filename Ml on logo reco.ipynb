{
 "cells": [
  {
   "cell_type": "code",
   "execution_count": 7,
   "metadata": {
    "collapsed": true
   },
   "outputs": [],
   "source": [
    "import warnings\n",
    "warnings.filterwarnings('ignore')"
   ]
  },
  {
   "cell_type": "code",
   "execution_count": 8,
   "metadata": {
    "collapsed": true
   },
   "outputs": [],
   "source": [
    "%matplotlib inline\n",
    "import numpy as np\n",
    "import matplotlib.pyplot as plt\n",
    "import seaborn as sns; sns.set()\n",
    "import cv2"
   ]
  },
  {
   "cell_type": "code",
   "execution_count": 9,
   "metadata": {
    "collapsed": true
   },
   "outputs": [],
   "source": []
  },
  {
   "cell_type": "code",
   "execution_count": 10,
   "metadata": {
    "collapsed": true
   },
   "outputs": [],
   "source": [
    "test_image = cv2.imread('Paint_image/logo_drew/tinder_1.png')\n",
    "test_image = cv2.cvtColor(test_image, cv2.COLOR_RGB2GRAY)\n",
    "test_image=255-test_image\n",
    "test_image = cv2.resize(test_image, (8, 8))"
   ]
  },
  {
   "cell_type": "code",
   "execution_count": 11,
   "metadata": {},
   "outputs": [
    {
     "data": {
      "text/plain": [
       "<matplotlib.image.AxesImage at 0x1ca1bd299e8>"
      ]
     },
     "execution_count": 11,
     "metadata": {},
     "output_type": "execute_result"
    },
    {
     "data": {
      "image/png": "[encoded data removed]",
      "text/plain": [
       "<matplotlib.figure.Figure at 0x1ca1bc749e8>"
      ]
     },
     "metadata": {},
     "output_type": "display_data"
    }
   ],
   "source": [
    "plt.imshow(test_image)"
   ]
  },
  {
   "cell_type": "code",
   "execution_count": 12,
   "metadata": {},
   "outputs": [
    {
     "data": {
      "text/plain": [
       "array([[  0,   0,   0,   0,   0,   0,   0,   0],\n",
       "       [  0,   0,   0,   0, 128, 245,   0,   0],\n",
       "       [  0,   0,   0,   0, 255, 255,   0,   0],\n",
       "       [  0,   0,   0, 255,  24, 255,   0,   0],\n",
       "       [  0,   0, 192, 195,   0, 205, 255,   0],\n",
       "       [  0,   0, 192, 112,  64, 255, 255,   0],\n",
       "       [  0,   0,  14, 192, 192,  46,   0,   0],\n",
       "       [  0,   0,   0,   0,   0,   0,   0,   0]], dtype=uint8)"
      ]
     },
     "execution_count": 12,
     "metadata": {},
     "output_type": "execute_result"
    }
   ],
   "source": [
    "test_image "
   ]
  },
  {
   "cell_type": "markdown",
   "metadata": {},
   "source": [
    "Il faut créer une base de données "
   ]
  },
  {
   "cell_type": "markdown",
   "metadata": {},
   "source": [
    "On veut créer de la manière : ['data', 'target', 'target_names', 'images']\n",
    "\n",
    "Liste ou numpy ? voire un dico ..\n",
    "\n",
    "https://docs.python.org/3/library/glob.html\n"
   ]
  },
  {
   "cell_type": "code",
   "execution_count": 31,
   "metadata": {
    "collapsed": true
   },
   "outputs": [],
   "source": [
    "from glob import glob\n",
    "import os\n",
    "\n",
    "imPath = \"Paint_image/logo_drew/\"\n",
    "ls_path = glob(os.path.join(imPath, '*' ))\n",
    "\n",
    "ls_path\n",
    "\n",
    "%%time\n",
    "name_to_label ={'tinder':1,'messenger':2} #Pour labeliser facilement\n",
    "data_base={'data': [], 'label' : [],'nom_label' :[],'image':[]}\n",
    "for file in ls_path:                        #On parcours tous les fichiers                \n",
    "    im = cv2.imread(file,0)                 #On charge l'image\n",
    "    im=255-im                               #On inverse le contrast \n",
    "    im = cv2.resize(im, (8, 8))             #On met au bon format de pixels\n",
    "    name= file.split('\\\\')[1].split('_')[0] #On extrait le type\n",
    "    data_base['data']+=[np.ndarray.flatten(im)]\n",
    "    data_base['label']+=[name_to_label[name]]\n",
    "    data_base['nom_label']+=[name]\n",
    "    data_base['image']+=[im]\n",
    "data_base['data']=np.array(data_base['data'])\n",
    "data_base['label']=np.array(data_base['label'])\n",
    "data_base['nom_label']=np.array(data_base['nom_label'])\n",
    "data_base['image']=np.array(data_base['image'])\n",
    "    \n"
   ]
  },
  {
   "cell_type": "code",
   "execution_count": 75,
   "metadata": {},
   "outputs": [
    {
     "data": {
      "text/plain": [
       "array([  0,   0,   0,   0,   0,   0,   0,   0,   0,   0,   0,   0, 128,\n",
       "       245,   0,   0,   0,   0,   0,   0, 255, 255,   0,   0,   0,   0,\n",
       "         0, 255,  24, 255,   0,   0,   0,   0, 192, 195,   0, 205, 255,\n",
       "         0,   0,   0, 192, 112,  64, 255, 255,   0,   0,   0,  14, 192,\n",
       "       192,  46,   0,   0,   0,   0,   0,   0,   0,   0,   0,   0],\n",
       "      dtype=uint8)"
      ]
     },
     "execution_count": 75,
     "metadata": {},
     "output_type": "execute_result"
    }
   ],
   "source": [
    "data_base['data'][1]"
   ]
  },
  {
   "cell_type": "markdown",
   "metadata": {},
   "source": [
    "# We try some ML"
   ]
  },
  {
   "cell_type": "code",
   "execution_count": 76,
   "metadata": {
    "collapsed": true
   },
   "outputs": [],
   "source": [
    "from sklearn.ensemble import RandomForestClassifier\n"
   ]
  },
  {
   "cell_type": "code",
   "execution_count": 86,
   "metadata": {
    "collapsed": true
   },
   "outputs": [],
   "source": [
    "from sklearn.cross_validation import train_test_split\n",
    "\n",
    "logo_data=data_base['data']\n",
    "logo_target=data_base['label']\n",
    "\n",
    "Xtrain, Xtest, ytrain, ytest = train_test_split(logo_data, logo_target, test_size=0.1,\n",
    "                                                random_state=0)\n",
    "model = RandomForestClassifier(n_estimators=1000)\n",
    "model.fit(Xtrain, ytrain)\n",
    "ypred = model.predict(Xtest)"
   ]
  },
  {
   "cell_type": "code",
   "execution_count": 87,
   "metadata": {},
   "outputs": [
    {
     "name": "stdout",
     "output_type": "stream",
     "text": [
      "             precision    recall  f1-score   support\n",
      "\n",
      "          1       0.00      0.00      0.00         0\n",
      "          2       1.00      0.50      0.67         2\n",
      "\n",
      "avg / total       1.00      0.50      0.67         2\n",
      "\n"
     ]
    }
   ],
   "source": [
    "from sklearn import metrics\n",
    "print(metrics.classification_report(ypred, ytest))"
   ]
  },
  {
   "cell_type": "code",
   "execution_count": 88,
   "metadata": {},
   "outputs": [
    {
     "data": {
      "image/png": "[encoded data removed]",
      "text/plain": [
       "<matplotlib.figure.Figure at 0x1ca1ac20d68>"
      ]
     },
     "metadata": {},
     "output_type": "display_data"
    }
   ],
   "source": [
    "from sklearn.metrics import confusion_matrix\n",
    "mat = confusion_matrix(ytest, ypred)\n",
    "sns.heatmap(mat.T, square=True, annot=True, fmt='d', cbar=False)\n",
    "plt.xlabel('true label')\n",
    "plt.ylabel('predicted label');"
   ]
  },
  {
   "cell_type": "code",
   "execution_count": null,
   "metadata": {
    "collapsed": true
   },
   "outputs": [],
   "source": []
  }
 ],
 "metadata": {
  "kernelspec": {
   "display_name": "Python 3",
   "language": "python",
   "name": "python3"
  },
  "language_info": {
   "codemirror_mode": {
    "name": "ipython",
    "version": 3
   },
   "file_extension": ".py",
   "mimetype": "text/x-python",
   "name": "python",
   "nbconvert_exporter": "python",
   "pygments_lexer": "ipython3",
   "version": "3.6.1"
  }
 },
 "nbformat": 4,
 "nbformat_minor": 2
}
